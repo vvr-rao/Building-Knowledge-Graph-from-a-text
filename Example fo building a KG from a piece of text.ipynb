{
  "cells": [
    {
      "cell_type": "code",
      "execution_count": null,
      "metadata": {
        "id": "t2I-YfyxXJvg"
      },
      "outputs": [],
      "source": [
        "# https://www.youtube.com/watch?v=NvzofNF0jqI\n",
        "from textacy.extract import subject_verb_object_triples\n",
        "from matplotlib import pylab as plt\n",
        "import pandas as pd\n",
        "import spacy\n",
        "nlp = spacy.load('en_core_web_lg')"
      ]
    },
    {
      "cell_type": "code",
      "source": [
        "#NOTE: \n",
        "'''\n",
        "textacy is a Python library for performing a variety of natural language processing (NLP) tasks, \n",
        "built on the high-performance spacy library. With the fundamentals – tokenization, part-of-speech tagging, dependency parsing, etc. – \n",
        "delegated to another library, textacy focuses on the tasks that come before and follow after.\n",
        "'''\n",
        "pip install textacy"
      ],
      "metadata": {
        "colab": {
          "base_uri": "https://localhost:8080/"
        },
        "id": "hUGh8ZICbyTB",
        "outputId": "ce0e2d71-6db7-47c0-e493-d01349ab9bac"
      },
      "execution_count": null,
      "outputs": [
        {
          "output_type": "stream",
          "name": "stdout",
          "text": [
            "Looking in indexes: https://pypi.org/simple, https://us-python.pkg.dev/colab-wheels/public/simple/\n",
            "Collecting textacy\n",
            "  Downloading textacy-0.12.0-py3-none-any.whl (208 kB)\n",
            "\u001b[2K     \u001b[90m━━━━━━━━━━━━━━━━━━━━━━━━━━━━━━━━━━━━━━\u001b[0m \u001b[32m208.4/208.4 KB\u001b[0m \u001b[31m14.4 MB/s\u001b[0m eta \u001b[36m0:00:00\u001b[0m\n",
            "\u001b[?25hRequirement already satisfied: spacy>=3.0.0 in /usr/local/lib/python3.8/dist-packages (from textacy) (3.4.4)\n",
            "Requirement already satisfied: catalogue~=2.0 in /usr/local/lib/python3.8/dist-packages (from textacy) (2.0.8)\n",
            "Requirement already satisfied: scipy>=0.17.0 in /usr/local/lib/python3.8/dist-packages (from textacy) (1.7.3)\n",
            "Requirement already satisfied: requests>=2.10.0 in /usr/local/lib/python3.8/dist-packages (from textacy) (2.25.1)\n",
            "Collecting jellyfish>=0.8.0\n",
            "  Downloading jellyfish-0.9.0.tar.gz (132 kB)\n",
            "\u001b[2K     \u001b[90m━━━━━━━━━━━━━━━━━━━━━━━━━━━━━━━━━━━━━━\u001b[0m \u001b[32m132.6/132.6 KB\u001b[0m \u001b[31m16.8 MB/s\u001b[0m eta \u001b[36m0:00:00\u001b[0m\n",
            "\u001b[?25h  Preparing metadata (setup.py) ... \u001b[?25l\u001b[?25hdone\n",
            "Requirement already satisfied: joblib>=0.13.0 in /usr/local/lib/python3.8/dist-packages (from textacy) (1.2.0)\n",
            "Requirement already satisfied: numpy>=1.17.0 in /usr/local/lib/python3.8/dist-packages (from textacy) (1.21.6)\n",
            "Requirement already satisfied: tqdm>=4.19.6 in /usr/local/lib/python3.8/dist-packages (from textacy) (4.64.1)\n",
            "Requirement already satisfied: networkx>=2.0 in /usr/local/lib/python3.8/dist-packages (from textacy) (2.8.8)\n",
            "Requirement already satisfied: cachetools>=4.0.0 in /usr/local/lib/python3.8/dist-packages (from textacy) (5.2.0)\n",
            "Requirement already satisfied: scikit-learn>=0.19.0 in /usr/local/lib/python3.8/dist-packages (from textacy) (1.0.2)\n",
            "Collecting cytoolz>=0.10.1\n",
            "  Downloading cytoolz-0.12.1-cp38-cp38-manylinux_2_17_x86_64.manylinux2014_x86_64.whl (1.8 MB)\n",
            "\u001b[2K     \u001b[90m━━━━━━━━━━━━━━━━━━━━━━━━━━━━━━━━━━━━━━━━\u001b[0m \u001b[32m1.8/1.8 MB\u001b[0m \u001b[31m44.9 MB/s\u001b[0m eta \u001b[36m0:00:00\u001b[0m\n",
            "\u001b[?25hCollecting pyphen>=0.10.0\n",
            "  Downloading pyphen-0.13.2-py3-none-any.whl (2.0 MB)\n",
            "\u001b[2K     \u001b[90m━━━━━━━━━━━━━━━━━━━━━━━━━━━━━━━━━━━━━━━━\u001b[0m \u001b[32m2.0/2.0 MB\u001b[0m \u001b[31m75.4 MB/s\u001b[0m eta \u001b[36m0:00:00\u001b[0m\n",
            "\u001b[?25hRequirement already satisfied: toolz>=0.8.0 in /usr/local/lib/python3.8/dist-packages (from cytoolz>=0.10.1->textacy) (0.12.0)\n",
            "Requirement already satisfied: idna<3,>=2.5 in /usr/local/lib/python3.8/dist-packages (from requests>=2.10.0->textacy) (2.10)\n",
            "Requirement already satisfied: chardet<5,>=3.0.2 in /usr/local/lib/python3.8/dist-packages (from requests>=2.10.0->textacy) (4.0.0)\n",
            "Requirement already satisfied: certifi>=2017.4.17 in /usr/local/lib/python3.8/dist-packages (from requests>=2.10.0->textacy) (2022.12.7)\n",
            "Requirement already satisfied: urllib3<1.27,>=1.21.1 in /usr/local/lib/python3.8/dist-packages (from requests>=2.10.0->textacy) (1.24.3)\n",
            "Requirement already satisfied: threadpoolctl>=2.0.0 in /usr/local/lib/python3.8/dist-packages (from scikit-learn>=0.19.0->textacy) (3.1.0)\n",
            "Requirement already satisfied: pydantic!=1.8,!=1.8.1,<1.11.0,>=1.7.4 in /usr/local/lib/python3.8/dist-packages (from spacy>=3.0.0->textacy) (1.10.2)\n",
            "Requirement already satisfied: langcodes<4.0.0,>=3.2.0 in /usr/local/lib/python3.8/dist-packages (from spacy>=3.0.0->textacy) (3.3.0)\n",
            "Requirement already satisfied: cymem<2.1.0,>=2.0.2 in /usr/local/lib/python3.8/dist-packages (from spacy>=3.0.0->textacy) (2.0.7)\n",
            "Requirement already satisfied: smart-open<7.0.0,>=5.2.1 in /usr/local/lib/python3.8/dist-packages (from spacy>=3.0.0->textacy) (6.3.0)\n",
            "Requirement already satisfied: wasabi<1.1.0,>=0.9.1 in /usr/local/lib/python3.8/dist-packages (from spacy>=3.0.0->textacy) (0.10.1)\n",
            "Requirement already satisfied: murmurhash<1.1.0,>=0.28.0 in /usr/local/lib/python3.8/dist-packages (from spacy>=3.0.0->textacy) (1.0.9)\n",
            "Requirement already satisfied: jinja2 in /usr/local/lib/python3.8/dist-packages (from spacy>=3.0.0->textacy) (2.11.3)\n",
            "Requirement already satisfied: packaging>=20.0 in /usr/local/lib/python3.8/dist-packages (from spacy>=3.0.0->textacy) (21.3)\n",
            "Requirement already satisfied: spacy-legacy<3.1.0,>=3.0.10 in /usr/local/lib/python3.8/dist-packages (from spacy>=3.0.0->textacy) (3.0.10)\n",
            "Requirement already satisfied: setuptools in /usr/local/lib/python3.8/dist-packages (from spacy>=3.0.0->textacy) (57.4.0)\n",
            "Requirement already satisfied: pathy>=0.3.5 in /usr/local/lib/python3.8/dist-packages (from spacy>=3.0.0->textacy) (0.10.1)\n",
            "Requirement already satisfied: thinc<8.2.0,>=8.1.0 in /usr/local/lib/python3.8/dist-packages (from spacy>=3.0.0->textacy) (8.1.6)\n",
            "Requirement already satisfied: srsly<3.0.0,>=2.4.3 in /usr/local/lib/python3.8/dist-packages (from spacy>=3.0.0->textacy) (2.4.5)\n",
            "Requirement already satisfied: spacy-loggers<2.0.0,>=1.0.0 in /usr/local/lib/python3.8/dist-packages (from spacy>=3.0.0->textacy) (1.0.4)\n",
            "Requirement already satisfied: typer<0.8.0,>=0.3.0 in /usr/local/lib/python3.8/dist-packages (from spacy>=3.0.0->textacy) (0.7.0)\n",
            "Requirement already satisfied: preshed<3.1.0,>=3.0.2 in /usr/local/lib/python3.8/dist-packages (from spacy>=3.0.0->textacy) (3.0.8)\n",
            "Requirement already satisfied: pyparsing!=3.0.5,>=2.0.2 in /usr/local/lib/python3.8/dist-packages (from packaging>=20.0->spacy>=3.0.0->textacy) (3.0.9)\n",
            "Requirement already satisfied: typing-extensions>=4.1.0 in /usr/local/lib/python3.8/dist-packages (from pydantic!=1.8,!=1.8.1,<1.11.0,>=1.7.4->spacy>=3.0.0->textacy) (4.4.0)\n",
            "Requirement already satisfied: confection<1.0.0,>=0.0.1 in /usr/local/lib/python3.8/dist-packages (from thinc<8.2.0,>=8.1.0->spacy>=3.0.0->textacy) (0.0.3)\n",
            "Requirement already satisfied: blis<0.8.0,>=0.7.8 in /usr/local/lib/python3.8/dist-packages (from thinc<8.2.0,>=8.1.0->spacy>=3.0.0->textacy) (0.7.9)\n",
            "Requirement already satisfied: click<9.0.0,>=7.1.1 in /usr/local/lib/python3.8/dist-packages (from typer<0.8.0,>=0.3.0->spacy>=3.0.0->textacy) (7.1.2)\n",
            "Requirement already satisfied: MarkupSafe>=0.23 in /usr/local/lib/python3.8/dist-packages (from jinja2->spacy>=3.0.0->textacy) (2.0.1)\n",
            "Building wheels for collected packages: jellyfish\n",
            "  Building wheel for jellyfish (setup.py) ... \u001b[?25l\u001b[?25hdone\n",
            "  Created wheel for jellyfish: filename=jellyfish-0.9.0-cp38-cp38-linux_x86_64.whl size=70625 sha256=e4bbe8e166b286b01159f5dd1f10bf9fa427efbb77f28eaf1ca3cbf82627c291\n",
            "  Stored in directory: /root/.cache/pip/wheels/f1/c7/3c/4c83132de76359e3a429fd09c08995945ca96c5290a41651d3\n",
            "Successfully built jellyfish\n",
            "Installing collected packages: pyphen, jellyfish, cytoolz, textacy\n",
            "Successfully installed cytoolz-0.12.1 jellyfish-0.9.0 pyphen-0.13.2 textacy-0.12.0\n"
          ]
        }
      ]
    },
    {
      "cell_type": "code",
      "source": [
        "!python -m spacy download en_core_web_lg"
      ],
      "metadata": {
        "colab": {
          "base_uri": "https://localhost:8080/"
        },
        "id": "WX87XpKtcSQ6",
        "outputId": "2f426c8b-4534-4494-f891-53cd17192d3c"
      },
      "execution_count": null,
      "outputs": [
        {
          "output_type": "stream",
          "name": "stdout",
          "text": [
            "/usr/local/lib/python3.8/dist-packages/torch/cuda/__init__.py:497: UserWarning: Can't initialize NVML\n",
            "  warnings.warn(\"Can't initialize NVML\")\n",
            "2023-01-06 14:20:18.304106: E tensorflow/stream_executor/cuda/cuda_driver.cc:271] failed call to cuInit: CUDA_ERROR_NO_DEVICE: no CUDA-capable device is detected\n",
            "Looking in indexes: https://pypi.org/simple, https://us-python.pkg.dev/colab-wheels/public/simple/\n",
            "Collecting en-core-web-lg==3.4.1\n",
            "  Downloading https://github.com/explosion/spacy-models/releases/download/en_core_web_lg-3.4.1/en_core_web_lg-3.4.1-py3-none-any.whl (587.7 MB)\n",
            "\u001b[2K     \u001b[90m━━━━━━━━━━━━━━━━━━━━━━━━━━━━━━━━━━━━━━━\u001b[0m \u001b[32m587.7/587.7 MB\u001b[0m \u001b[31m2.5 MB/s\u001b[0m eta \u001b[36m0:00:00\u001b[0m\n",
            "\u001b[?25hRequirement already satisfied: spacy<3.5.0,>=3.4.0 in /usr/local/lib/python3.8/dist-packages (from en-core-web-lg==3.4.1) (3.4.4)\n",
            "Requirement already satisfied: langcodes<4.0.0,>=3.2.0 in /usr/local/lib/python3.8/dist-packages (from spacy<3.5.0,>=3.4.0->en-core-web-lg==3.4.1) (3.3.0)\n",
            "Requirement already satisfied: setuptools in /usr/local/lib/python3.8/dist-packages (from spacy<3.5.0,>=3.4.0->en-core-web-lg==3.4.1) (57.4.0)\n",
            "Requirement already satisfied: jinja2 in /usr/local/lib/python3.8/dist-packages (from spacy<3.5.0,>=3.4.0->en-core-web-lg==3.4.1) (2.11.3)\n",
            "Requirement already satisfied: srsly<3.0.0,>=2.4.3 in /usr/local/lib/python3.8/dist-packages (from spacy<3.5.0,>=3.4.0->en-core-web-lg==3.4.1) (2.4.5)\n",
            "Requirement already satisfied: cymem<2.1.0,>=2.0.2 in /usr/local/lib/python3.8/dist-packages (from spacy<3.5.0,>=3.4.0->en-core-web-lg==3.4.1) (2.0.7)\n",
            "Requirement already satisfied: smart-open<7.0.0,>=5.2.1 in /usr/local/lib/python3.8/dist-packages (from spacy<3.5.0,>=3.4.0->en-core-web-lg==3.4.1) (6.3.0)\n",
            "Requirement already satisfied: numpy>=1.15.0 in /usr/local/lib/python3.8/dist-packages (from spacy<3.5.0,>=3.4.0->en-core-web-lg==3.4.1) (1.21.6)\n",
            "Requirement already satisfied: catalogue<2.1.0,>=2.0.6 in /usr/local/lib/python3.8/dist-packages (from spacy<3.5.0,>=3.4.0->en-core-web-lg==3.4.1) (2.0.8)\n",
            "Requirement already satisfied: packaging>=20.0 in /usr/local/lib/python3.8/dist-packages (from spacy<3.5.0,>=3.4.0->en-core-web-lg==3.4.1) (21.3)\n",
            "Requirement already satisfied: requests<3.0.0,>=2.13.0 in /usr/local/lib/python3.8/dist-packages (from spacy<3.5.0,>=3.4.0->en-core-web-lg==3.4.1) (2.25.1)\n",
            "Requirement already satisfied: spacy-legacy<3.1.0,>=3.0.10 in /usr/local/lib/python3.8/dist-packages (from spacy<3.5.0,>=3.4.0->en-core-web-lg==3.4.1) (3.0.10)\n",
            "Requirement already satisfied: pydantic!=1.8,!=1.8.1,<1.11.0,>=1.7.4 in /usr/local/lib/python3.8/dist-packages (from spacy<3.5.0,>=3.4.0->en-core-web-lg==3.4.1) (1.10.2)\n",
            "Requirement already satisfied: pathy>=0.3.5 in /usr/local/lib/python3.8/dist-packages (from spacy<3.5.0,>=3.4.0->en-core-web-lg==3.4.1) (0.10.1)\n",
            "Requirement already satisfied: murmurhash<1.1.0,>=0.28.0 in /usr/local/lib/python3.8/dist-packages (from spacy<3.5.0,>=3.4.0->en-core-web-lg==3.4.1) (1.0.9)\n",
            "Requirement already satisfied: thinc<8.2.0,>=8.1.0 in /usr/local/lib/python3.8/dist-packages (from spacy<3.5.0,>=3.4.0->en-core-web-lg==3.4.1) (8.1.6)\n",
            "Requirement already satisfied: preshed<3.1.0,>=3.0.2 in /usr/local/lib/python3.8/dist-packages (from spacy<3.5.0,>=3.4.0->en-core-web-lg==3.4.1) (3.0.8)\n",
            "Requirement already satisfied: typer<0.8.0,>=0.3.0 in /usr/local/lib/python3.8/dist-packages (from spacy<3.5.0,>=3.4.0->en-core-web-lg==3.4.1) (0.7.0)\n",
            "Requirement already satisfied: tqdm<5.0.0,>=4.38.0 in /usr/local/lib/python3.8/dist-packages (from spacy<3.5.0,>=3.4.0->en-core-web-lg==3.4.1) (4.64.1)\n",
            "Requirement already satisfied: wasabi<1.1.0,>=0.9.1 in /usr/local/lib/python3.8/dist-packages (from spacy<3.5.0,>=3.4.0->en-core-web-lg==3.4.1) (0.10.1)\n",
            "Requirement already satisfied: spacy-loggers<2.0.0,>=1.0.0 in /usr/local/lib/python3.8/dist-packages (from spacy<3.5.0,>=3.4.0->en-core-web-lg==3.4.1) (1.0.4)\n",
            "Requirement already satisfied: pyparsing!=3.0.5,>=2.0.2 in /usr/local/lib/python3.8/dist-packages (from packaging>=20.0->spacy<3.5.0,>=3.4.0->en-core-web-lg==3.4.1) (3.0.9)\n",
            "Requirement already satisfied: typing-extensions>=4.1.0 in /usr/local/lib/python3.8/dist-packages (from pydantic!=1.8,!=1.8.1,<1.11.0,>=1.7.4->spacy<3.5.0,>=3.4.0->en-core-web-lg==3.4.1) (4.4.0)\n",
            "Requirement already satisfied: urllib3<1.27,>=1.21.1 in /usr/local/lib/python3.8/dist-packages (from requests<3.0.0,>=2.13.0->spacy<3.5.0,>=3.4.0->en-core-web-lg==3.4.1) (1.24.3)\n",
            "Requirement already satisfied: certifi>=2017.4.17 in /usr/local/lib/python3.8/dist-packages (from requests<3.0.0,>=2.13.0->spacy<3.5.0,>=3.4.0->en-core-web-lg==3.4.1) (2022.12.7)\n",
            "Requirement already satisfied: idna<3,>=2.5 in /usr/local/lib/python3.8/dist-packages (from requests<3.0.0,>=2.13.0->spacy<3.5.0,>=3.4.0->en-core-web-lg==3.4.1) (2.10)\n",
            "Requirement already satisfied: chardet<5,>=3.0.2 in /usr/local/lib/python3.8/dist-packages (from requests<3.0.0,>=2.13.0->spacy<3.5.0,>=3.4.0->en-core-web-lg==3.4.1) (4.0.0)\n",
            "Requirement already satisfied: blis<0.8.0,>=0.7.8 in /usr/local/lib/python3.8/dist-packages (from thinc<8.2.0,>=8.1.0->spacy<3.5.0,>=3.4.0->en-core-web-lg==3.4.1) (0.7.9)\n",
            "Requirement already satisfied: confection<1.0.0,>=0.0.1 in /usr/local/lib/python3.8/dist-packages (from thinc<8.2.0,>=8.1.0->spacy<3.5.0,>=3.4.0->en-core-web-lg==3.4.1) (0.0.3)\n",
            "Requirement already satisfied: click<9.0.0,>=7.1.1 in /usr/local/lib/python3.8/dist-packages (from typer<0.8.0,>=0.3.0->spacy<3.5.0,>=3.4.0->en-core-web-lg==3.4.1) (7.1.2)\n",
            "Requirement already satisfied: MarkupSafe>=0.23 in /usr/local/lib/python3.8/dist-packages (from jinja2->spacy<3.5.0,>=3.4.0->en-core-web-lg==3.4.1) (2.0.1)\n",
            "Installing collected packages: en-core-web-lg\n",
            "Successfully installed en-core-web-lg-3.4.1\n",
            "\u001b[38;5;2m✔ Download and installation successful\u001b[0m\n",
            "You can now load the package via spacy.load('en_core_web_lg')\n"
          ]
        }
      ]
    },
    {
      "cell_type": "code",
      "execution_count": null,
      "metadata": {
        "id": "aPXWU5IUXJvi"
      },
      "outputs": [],
      "source": [
        "text =\"France , officially the French Republic (French: République française)[1] is a transcontinental\"\\\n",
        "\"country spanning Western Europe and overseas regions and territories in South America and the Atlantic,\"\\\n",
        "\"Pacific and Indian Oceans.[XIII] Including all of its territories,\"\\\n",
        "\"France has twelve time zones, the most of any country.\"\\\n",
        "\"Its metropolitan area extends from the Rhine to the Atlantic Ocean and from the Mediterranean Sea\"\\\n",
        "\"to the English Channel and the North Sea; overseas territories include French Guiana in South America,\"\\\n",
        "\" Saint Pierre and Miquelon in North Atlantic, French West Indies and several islands in Oceania and Indian Ocean.\"\\\n",
        "\" Due to its several coastal territories, France has the largest exclusive economic zone in the world.\"\\\n",
        "\" France borders Belgium, Luxembourg, Germany, Switzerland, Monaco, Italy, Andorra and Spain in Europe,\"\\\n",
        "\" as well as the Netherlands, Suriname and Brazil in the Americas. \"\\\n",
        "\"Its eighteen integral regions (five of which are overseas) span a combined area of 643,801 km2\"\\\n",
        "\"(248,573 sq mi) and over 67 million people (as of May 2021).\"\\\n",
        "\" France is a unitary semi-presidential republic with its capital in Paris, the\" \\\n",
        "\"country's largest city and main cultural and commercial centre; \"\\\n",
        "\"other major urban areas include Lyon, Marseille, Toulouse, Bordeaux, Lille and Nice.\""
      ]
    },
    {
      "cell_type": "code",
      "execution_count": null,
      "metadata": {
        "colab": {
          "base_uri": "https://localhost:8080/"
        },
        "id": "SKSHbouWXJvj",
        "outputId": "e7253273-1fd9-4d25-f8fb-c594019bff19"
      },
      "outputs": [
        {
          "output_type": "stream",
          "name": "stdout",
          "text": [
            "France , officially the French Republic (French: République française)[1] is a transcontinentalcountry spanning Western Europe and overseas regions and territories in South America and the Atlantic,Pacific and Indian Oceans.[XIII] Including all of its territories,France has twelve time zones, the most of any country.\n",
            "Its metropolitan area extends from the Rhine to the Atlantic Ocean and from the Mediterranean Seato the English Channel and the North Sea; overseas territories include French Guiana in South America, Saint Pierre and Miquelon in North Atlantic, French West Indies and several islands in Oceania and Indian Ocean.\n",
            "Due to its several coastal territories, France has the largest exclusive economic zone in the world.\n",
            "France borders Belgium, Luxembourg, Germany, Switzerland, Monaco, Italy, Andorra and Spain in Europe, as well as the Netherlands, Suriname and Brazil in the Americas.\n",
            "Its eighteen integral regions (five of which are overseas) span a combined area of 643,801 km2(248,573 sq mi) and over 67 million people (as of May 2021).\n",
            "France is a unitary semi-presidential republic with its capital in Paris, thecountry's largest city and main cultural and commercial centre; other major urban areas include Lyon, Marseille, Toulouse, Bordeaux, Lille and Nice.\n"
          ]
        }
      ],
      "source": [
        "\n",
        "document = nlp(text)\n",
        "\n",
        "sentences_in_doc = list(document.sents)\n",
        "for sentence in sentences_in_doc:\n",
        "    print (sentence)\n"
      ]
    },
    {
      "cell_type": "code",
      "execution_count": null,
      "metadata": {
        "id": "DeJyd_xlXJvk"
      },
      "outputs": [],
      "source": [
        "\n",
        "from tqdm import tqdm"
      ]
    },
    {
      "cell_type": "code",
      "execution_count": null,
      "metadata": {
        "colab": {
          "base_uri": "https://localhost:8080/"
        },
        "id": "i9U6rTkyXJvk",
        "outputId": "cbc4ccd3-c276-49af-b9e6-48e343872f1b"
      },
      "outputs": [
        {
          "output_type": "stream",
          "name": "stderr",
          "text": [
            "100%|██████████| 6/6 [00:00<00:00, 3040.09it/s]\n"
          ]
        }
      ],
      "source": [
        "triples_raw = []\n",
        "\n",
        "for i in tqdm(sentences_in_doc):  \n",
        "    iterator = subject_verb_object_triples(i)\n",
        "    phrase_triples = []\n",
        "    for svo in iterator:\n",
        "        phrase_triples.append(svo)\n",
        "    triples_raw.append(phrase_triples)"
      ]
    },
    {
      "cell_type": "code",
      "execution_count": null,
      "metadata": {
        "id": "Ky1l8NZyXJvk"
      },
      "outputs": [],
      "source": [
        "from itertools import chain\n",
        "triples_final = list(chain.from_iterable(triples_raw))"
      ]
    },
    {
      "cell_type": "code",
      "execution_count": null,
      "metadata": {
        "colab": {
          "base_uri": "https://localhost:8080/"
        },
        "id": "D7EHdZjJXJvl",
        "outputId": "87761689-0419-45b9-b3e3-128eb4cae28b"
      },
      "outputs": [
        {
          "output_type": "execute_result",
          "data": {
            "text/plain": [
              "[[SVOTriple(subject=[France], verb=[has], object=[time, zones])],\n",
              " [SVOTriple(subject=[territories], verb=[include], object=[French, Guiana, Saint, Pierre, Miquelon, West, Indies, islands])],\n",
              " [SVOTriple(subject=[France], verb=[has], object=[zone])],\n",
              " [SVOTriple(subject=[France], verb=[borders], object=[Belgium, Luxembourg, Germany, Switzerland, Monaco, Italy, Andorra, Spain, Netherlands, Suriname, Brazil])],\n",
              " [SVOTriple(subject=[regions], verb=[span], object=[area])],\n",
              " [SVOTriple(subject=[areas], verb=[include], object=[Lyon, Marseille, Toulouse, Bordeaux, Lille, Nice])]]"
            ]
          },
          "metadata": {},
          "execution_count": 15
        }
      ],
      "source": [
        "triples_raw"
      ]
    },
    {
      "cell_type": "code",
      "source": [
        "triples_final"
      ],
      "metadata": {
        "id": "GuFJNDsRgMg0",
        "outputId": "a70c8b1c-2ef3-46ba-eb90-a9309c7cc074",
        "colab": {
          "base_uri": "https://localhost:8080/"
        }
      },
      "execution_count": null,
      "outputs": [
        {
          "output_type": "execute_result",
          "data": {
            "text/plain": [
              "[SVOTriple(subject=[France], verb=[has], object=[time, zones]),\n",
              " SVOTriple(subject=[territories], verb=[include], object=[French, Guiana, Saint, Pierre, Miquelon, West, Indies, islands]),\n",
              " SVOTriple(subject=[France], verb=[has], object=[zone]),\n",
              " SVOTriple(subject=[France], verb=[borders], object=[Belgium, Luxembourg, Germany, Switzerland, Monaco, Italy, Andorra, Spain, Netherlands, Suriname, Brazil]),\n",
              " SVOTriple(subject=[regions], verb=[span], object=[area]),\n",
              " SVOTriple(subject=[areas], verb=[include], object=[Lyon, Marseille, Toulouse, Bordeaux, Lille, Nice])]"
            ]
          },
          "metadata": {},
          "execution_count": 26
        }
      ]
    },
    {
      "cell_type": "code",
      "execution_count": null,
      "metadata": {
        "id": "vkLh-cu1XJvl"
      },
      "outputs": [],
      "source": [
        "sources = []\n",
        "relations = []\n",
        "targets = []\n"
      ]
    },
    {
      "cell_type": "code",
      "execution_count": null,
      "metadata": {
        "colab": {
          "base_uri": "https://localhost:8080/"
        },
        "id": "JLvuvxj0XJvm",
        "outputId": "a1369e12-e0b3-48f7-8e89-073e8753c5c7"
      },
      "outputs": [
        {
          "output_type": "stream",
          "name": "stdout",
          "text": [
            "SVOTriple(subject=[France], verb=[has], object=[time, zones])\n",
            "SVOTriple(subject=[territories], verb=[include], object=[French, Guiana, Saint, Pierre, Miquelon, West, Indies, islands])\n",
            "SVOTriple(subject=[France], verb=[has], object=[zone])\n",
            "SVOTriple(subject=[France], verb=[borders], object=[Belgium, Luxembourg, Germany, Switzerland, Monaco, Italy, Andorra, Spain, Netherlands, Suriname, Brazil])\n",
            "SVOTriple(subject=[regions], verb=[span], object=[area])\n",
            "SVOTriple(subject=[areas], verb=[include], object=[Lyon, Marseille, Toulouse, Bordeaux, Lille, Nice])\n"
          ]
        }
      ],
      "source": [
        "for ep_item in triples_final:\n",
        "    # check found items are not empty\n",
        "    \n",
        "    if ep_item:\n",
        "        print(ep_item)\n",
        "        # append source/relation/target\n",
        "        #sources.append(ep_item[0])\n",
        "        #relations.append(ep_item[1])\n",
        "        #targets.append(ep_item[2])\n",
        "        for i in ep_item[2]:\n",
        "          sources.append(ep_item[0][0])\n",
        "          relations.append(ep_item[1][0])\n",
        "          targets.append(i)\n",
        "    \n",
        "    #else:\n",
        "     #   print('Could not detect triples in phrase:', phrase)"
      ]
    },
    {
      "cell_type": "code",
      "execution_count": null,
      "metadata": {
        "id": "WVv0eSR-XJvm"
      },
      "outputs": [],
      "source": [
        "# create DataFrame\n",
        "kg_df = pd.DataFrame({'source': sources, 'target': targets, 'edge': relations})"
      ]
    },
    {
      "cell_type": "code",
      "execution_count": null,
      "metadata": {
        "colab": {
          "base_uri": "https://localhost:8080/",
          "height": 959
        },
        "id": "wHNzTOrDXJvn",
        "outputId": "7d4f4db2-502d-4ea0-fc4e-db3071ef3392"
      },
      "outputs": [
        {
          "output_type": "execute_result",
          "data": {
            "text/plain": [
              "         source       target     edge\n",
              "0        France         time      has\n",
              "1        France        zones      has\n",
              "2   territories       French  include\n",
              "3   territories       Guiana  include\n",
              "4   territories        Saint  include\n",
              "5   territories       Pierre  include\n",
              "6   territories     Miquelon  include\n",
              "7   territories         West  include\n",
              "8   territories       Indies  include\n",
              "9   territories      islands  include\n",
              "10       France         zone      has\n",
              "11       France      Belgium  borders\n",
              "12       France   Luxembourg  borders\n",
              "13       France      Germany  borders\n",
              "14       France  Switzerland  borders\n",
              "15       France       Monaco  borders\n",
              "16       France        Italy  borders\n",
              "17       France      Andorra  borders\n",
              "18       France        Spain  borders\n",
              "19       France  Netherlands  borders\n",
              "20       France     Suriname  borders\n",
              "21       France       Brazil  borders\n",
              "22      regions         area     span\n",
              "23        areas         Lyon  include\n",
              "24        areas    Marseille  include\n",
              "25        areas     Toulouse  include\n",
              "26        areas     Bordeaux  include\n",
              "27        areas        Lille  include\n",
              "28        areas         Nice  include"
            ],
            "text/html": [
              "\n",
              "  <div id=\"df-f69ea420-9165-4803-a530-2522ec6d4f6b\">\n",
              "    <div class=\"colab-df-container\">\n",
              "      <div>\n",
              "<style scoped>\n",
              "    .dataframe tbody tr th:only-of-type {\n",
              "        vertical-align: middle;\n",
              "    }\n",
              "\n",
              "    .dataframe tbody tr th {\n",
              "        vertical-align: top;\n",
              "    }\n",
              "\n",
              "    .dataframe thead th {\n",
              "        text-align: right;\n",
              "    }\n",
              "</style>\n",
              "<table border=\"1\" class=\"dataframe\">\n",
              "  <thead>\n",
              "    <tr style=\"text-align: right;\">\n",
              "      <th></th>\n",
              "      <th>source</th>\n",
              "      <th>target</th>\n",
              "      <th>edge</th>\n",
              "    </tr>\n",
              "  </thead>\n",
              "  <tbody>\n",
              "    <tr>\n",
              "      <th>0</th>\n",
              "      <td>France</td>\n",
              "      <td>time</td>\n",
              "      <td>has</td>\n",
              "    </tr>\n",
              "    <tr>\n",
              "      <th>1</th>\n",
              "      <td>France</td>\n",
              "      <td>zones</td>\n",
              "      <td>has</td>\n",
              "    </tr>\n",
              "    <tr>\n",
              "      <th>2</th>\n",
              "      <td>territories</td>\n",
              "      <td>French</td>\n",
              "      <td>include</td>\n",
              "    </tr>\n",
              "    <tr>\n",
              "      <th>3</th>\n",
              "      <td>territories</td>\n",
              "      <td>Guiana</td>\n",
              "      <td>include</td>\n",
              "    </tr>\n",
              "    <tr>\n",
              "      <th>4</th>\n",
              "      <td>territories</td>\n",
              "      <td>Saint</td>\n",
              "      <td>include</td>\n",
              "    </tr>\n",
              "    <tr>\n",
              "      <th>5</th>\n",
              "      <td>territories</td>\n",
              "      <td>Pierre</td>\n",
              "      <td>include</td>\n",
              "    </tr>\n",
              "    <tr>\n",
              "      <th>6</th>\n",
              "      <td>territories</td>\n",
              "      <td>Miquelon</td>\n",
              "      <td>include</td>\n",
              "    </tr>\n",
              "    <tr>\n",
              "      <th>7</th>\n",
              "      <td>territories</td>\n",
              "      <td>West</td>\n",
              "      <td>include</td>\n",
              "    </tr>\n",
              "    <tr>\n",
              "      <th>8</th>\n",
              "      <td>territories</td>\n",
              "      <td>Indies</td>\n",
              "      <td>include</td>\n",
              "    </tr>\n",
              "    <tr>\n",
              "      <th>9</th>\n",
              "      <td>territories</td>\n",
              "      <td>islands</td>\n",
              "      <td>include</td>\n",
              "    </tr>\n",
              "    <tr>\n",
              "      <th>10</th>\n",
              "      <td>France</td>\n",
              "      <td>zone</td>\n",
              "      <td>has</td>\n",
              "    </tr>\n",
              "    <tr>\n",
              "      <th>11</th>\n",
              "      <td>France</td>\n",
              "      <td>Belgium</td>\n",
              "      <td>borders</td>\n",
              "    </tr>\n",
              "    <tr>\n",
              "      <th>12</th>\n",
              "      <td>France</td>\n",
              "      <td>Luxembourg</td>\n",
              "      <td>borders</td>\n",
              "    </tr>\n",
              "    <tr>\n",
              "      <th>13</th>\n",
              "      <td>France</td>\n",
              "      <td>Germany</td>\n",
              "      <td>borders</td>\n",
              "    </tr>\n",
              "    <tr>\n",
              "      <th>14</th>\n",
              "      <td>France</td>\n",
              "      <td>Switzerland</td>\n",
              "      <td>borders</td>\n",
              "    </tr>\n",
              "    <tr>\n",
              "      <th>15</th>\n",
              "      <td>France</td>\n",
              "      <td>Monaco</td>\n",
              "      <td>borders</td>\n",
              "    </tr>\n",
              "    <tr>\n",
              "      <th>16</th>\n",
              "      <td>France</td>\n",
              "      <td>Italy</td>\n",
              "      <td>borders</td>\n",
              "    </tr>\n",
              "    <tr>\n",
              "      <th>17</th>\n",
              "      <td>France</td>\n",
              "      <td>Andorra</td>\n",
              "      <td>borders</td>\n",
              "    </tr>\n",
              "    <tr>\n",
              "      <th>18</th>\n",
              "      <td>France</td>\n",
              "      <td>Spain</td>\n",
              "      <td>borders</td>\n",
              "    </tr>\n",
              "    <tr>\n",
              "      <th>19</th>\n",
              "      <td>France</td>\n",
              "      <td>Netherlands</td>\n",
              "      <td>borders</td>\n",
              "    </tr>\n",
              "    <tr>\n",
              "      <th>20</th>\n",
              "      <td>France</td>\n",
              "      <td>Suriname</td>\n",
              "      <td>borders</td>\n",
              "    </tr>\n",
              "    <tr>\n",
              "      <th>21</th>\n",
              "      <td>France</td>\n",
              "      <td>Brazil</td>\n",
              "      <td>borders</td>\n",
              "    </tr>\n",
              "    <tr>\n",
              "      <th>22</th>\n",
              "      <td>regions</td>\n",
              "      <td>area</td>\n",
              "      <td>span</td>\n",
              "    </tr>\n",
              "    <tr>\n",
              "      <th>23</th>\n",
              "      <td>areas</td>\n",
              "      <td>Lyon</td>\n",
              "      <td>include</td>\n",
              "    </tr>\n",
              "    <tr>\n",
              "      <th>24</th>\n",
              "      <td>areas</td>\n",
              "      <td>Marseille</td>\n",
              "      <td>include</td>\n",
              "    </tr>\n",
              "    <tr>\n",
              "      <th>25</th>\n",
              "      <td>areas</td>\n",
              "      <td>Toulouse</td>\n",
              "      <td>include</td>\n",
              "    </tr>\n",
              "    <tr>\n",
              "      <th>26</th>\n",
              "      <td>areas</td>\n",
              "      <td>Bordeaux</td>\n",
              "      <td>include</td>\n",
              "    </tr>\n",
              "    <tr>\n",
              "      <th>27</th>\n",
              "      <td>areas</td>\n",
              "      <td>Lille</td>\n",
              "      <td>include</td>\n",
              "    </tr>\n",
              "    <tr>\n",
              "      <th>28</th>\n",
              "      <td>areas</td>\n",
              "      <td>Nice</td>\n",
              "      <td>include</td>\n",
              "    </tr>\n",
              "  </tbody>\n",
              "</table>\n",
              "</div>\n",
              "      <button class=\"colab-df-convert\" onclick=\"convertToInteractive('df-f69ea420-9165-4803-a530-2522ec6d4f6b')\"\n",
              "              title=\"Convert this dataframe to an interactive table.\"\n",
              "              style=\"display:none;\">\n",
              "        \n",
              "  <svg xmlns=\"http://www.w3.org/2000/svg\" height=\"24px\"viewBox=\"0 0 24 24\"\n",
              "       width=\"24px\">\n",
              "    <path d=\"M0 0h24v24H0V0z\" fill=\"none\"/>\n",
              "    <path d=\"M18.56 5.44l.94 2.06.94-2.06 2.06-.94-2.06-.94-.94-2.06-.94 2.06-2.06.94zm-11 1L8.5 8.5l.94-2.06 2.06-.94-2.06-.94L8.5 2.5l-.94 2.06-2.06.94zm10 10l.94 2.06.94-2.06 2.06-.94-2.06-.94-.94-2.06-.94 2.06-2.06.94z\"/><path d=\"M17.41 7.96l-1.37-1.37c-.4-.4-.92-.59-1.43-.59-.52 0-1.04.2-1.43.59L10.3 9.45l-7.72 7.72c-.78.78-.78 2.05 0 2.83L4 21.41c.39.39.9.59 1.41.59.51 0 1.02-.2 1.41-.59l7.78-7.78 2.81-2.81c.8-.78.8-2.07 0-2.86zM5.41 20L4 18.59l7.72-7.72 1.47 1.35L5.41 20z\"/>\n",
              "  </svg>\n",
              "      </button>\n",
              "      \n",
              "  <style>\n",
              "    .colab-df-container {\n",
              "      display:flex;\n",
              "      flex-wrap:wrap;\n",
              "      gap: 12px;\n",
              "    }\n",
              "\n",
              "    .colab-df-convert {\n",
              "      background-color: #E8F0FE;\n",
              "      border: none;\n",
              "      border-radius: 50%;\n",
              "      cursor: pointer;\n",
              "      display: none;\n",
              "      fill: #1967D2;\n",
              "      height: 32px;\n",
              "      padding: 0 0 0 0;\n",
              "      width: 32px;\n",
              "    }\n",
              "\n",
              "    .colab-df-convert:hover {\n",
              "      background-color: #E2EBFA;\n",
              "      box-shadow: 0px 1px 2px rgba(60, 64, 67, 0.3), 0px 1px 3px 1px rgba(60, 64, 67, 0.15);\n",
              "      fill: #174EA6;\n",
              "    }\n",
              "\n",
              "    [theme=dark] .colab-df-convert {\n",
              "      background-color: #3B4455;\n",
              "      fill: #D2E3FC;\n",
              "    }\n",
              "\n",
              "    [theme=dark] .colab-df-convert:hover {\n",
              "      background-color: #434B5C;\n",
              "      box-shadow: 0px 1px 3px 1px rgba(0, 0, 0, 0.15);\n",
              "      filter: drop-shadow(0px 1px 2px rgba(0, 0, 0, 0.3));\n",
              "      fill: #FFFFFF;\n",
              "    }\n",
              "  </style>\n",
              "\n",
              "      <script>\n",
              "        const buttonEl =\n",
              "          document.querySelector('#df-f69ea420-9165-4803-a530-2522ec6d4f6b button.colab-df-convert');\n",
              "        buttonEl.style.display =\n",
              "          google.colab.kernel.accessAllowed ? 'block' : 'none';\n",
              "\n",
              "        async function convertToInteractive(key) {\n",
              "          const element = document.querySelector('#df-f69ea420-9165-4803-a530-2522ec6d4f6b');\n",
              "          const dataTable =\n",
              "            await google.colab.kernel.invokeFunction('convertToInteractive',\n",
              "                                                     [key], {});\n",
              "          if (!dataTable) return;\n",
              "\n",
              "          const docLinkHtml = 'Like what you see? Visit the ' +\n",
              "            '<a target=\"_blank\" href=https://colab.research.google.com/notebooks/data_table.ipynb>data table notebook</a>'\n",
              "            + ' to learn more about interactive tables.';\n",
              "          element.innerHTML = '';\n",
              "          dataTable['output_type'] = 'display_data';\n",
              "          await google.colab.output.renderOutput(dataTable, element);\n",
              "          const docLink = document.createElement('div');\n",
              "          docLink.innerHTML = docLinkHtml;\n",
              "          element.appendChild(docLink);\n",
              "        }\n",
              "      </script>\n",
              "    </div>\n",
              "  </div>\n",
              "  "
            ]
          },
          "metadata": {},
          "execution_count": 41
        }
      ],
      "source": [
        "kg_df"
      ]
    },
    {
      "cell_type": "code",
      "execution_count": null,
      "metadata": {
        "id": "QzzXZQl0XJvn"
      },
      "outputs": [],
      "source": [
        "import networkx as nx\n"
      ]
    },
    {
      "cell_type": "code",
      "execution_count": null,
      "metadata": {
        "id": "nQ2VCMXOXJvn"
      },
      "outputs": [],
      "source": [
        "#G = nx.from_pandas_edgelist(kg_df, \"source\", \"target\", edge_attr=True, create_using=nx.MultiDiGraph())\n",
        "#NOTE: networkx is a library which help buidl graph: https://networkx.org/documentation/stable/reference/generated/networkx.convert_matrix.from_pandas_edgelist.html\n",
        "\n",
        "G = nx.from_pandas_edgelist(kg_df, \"source\", \"target\", edge_attr=\"edge\")"
      ]
    },
    {
      "cell_type": "code",
      "execution_count": null,
      "metadata": {
        "id": "DsNsenRXXJvn"
      },
      "outputs": [],
      "source": [
        "\n",
        "nx_SG_d1 = nx.dfs_tree(G)\n",
        "edge_labels = nx.get_edge_attributes(G,'edge')"
      ]
    },
    {
      "cell_type": "code",
      "execution_count": null,
      "metadata": {
        "colab": {
          "base_uri": "https://localhost:8080/"
        },
        "id": "5oQ20zGzXJvn",
        "outputId": "a5a3634c-9ca2-4d57-fc0a-5b8639ede1e5"
      },
      "outputs": [
        {
          "output_type": "execute_result",
          "data": {
            "text/plain": [
              "{(France, time): has,\n",
              " (France, zones): has,\n",
              " (territories, French): include,\n",
              " (territories, Guiana): include,\n",
              " (territories, Saint): include,\n",
              " (territories, Pierre): include,\n",
              " (territories, Miquelon): include,\n",
              " (territories, West): include,\n",
              " (territories, Indies): include,\n",
              " (territories, islands): include,\n",
              " (France, zone): has,\n",
              " (France, Belgium): borders,\n",
              " (France, Luxembourg): borders,\n",
              " (France, Germany): borders,\n",
              " (France, Switzerland): borders,\n",
              " (France, Monaco): borders,\n",
              " (France, Italy): borders,\n",
              " (France, Andorra): borders,\n",
              " (France, Spain): borders,\n",
              " (France, Netherlands): borders,\n",
              " (France, Suriname): borders,\n",
              " (France, Brazil): borders,\n",
              " (regions, area): span,\n",
              " (areas, Lyon): include,\n",
              " (areas, Marseille): include,\n",
              " (areas, Toulouse): include,\n",
              " (areas, Bordeaux): include,\n",
              " (areas, Lille): include,\n",
              " (areas, Nice): include}"
            ]
          },
          "metadata": {},
          "execution_count": 44
        }
      ],
      "source": [
        "edge_labels"
      ]
    },
    {
      "cell_type": "code",
      "execution_count": null,
      "metadata": {
        "id": "mErLbitNXJvo"
      },
      "outputs": [],
      "source": [
        "\n",
        "def plot_graph(graph): \n",
        "    plt.figure(figsize=(8,8))\n",
        "    pos = nx.spring_layout(graph, k=0.5)  # k regulates the distance between nodes\n",
        "    nx.draw(graph, with_labels=True, node_color='skyblue', node_size=800, edge_cmap=plt.cm.Blues, pos=pos)\n",
        "    plt.show()"
      ]
    },
    {
      "cell_type": "code",
      "execution_count": null,
      "metadata": {
        "colab": {
          "base_uri": "https://localhost:8080/",
          "height": 607
        },
        "id": "2QZ-XRutXJvo",
        "outputId": "1576c8a6-0da9-4290-a8b0-c2b96ea7af78"
      },
      "outputs": [
        {
          "output_type": "display_data",
          "data": {
            "text/plain": [
              "<Figure size 576x576 with 1 Axes>"
            ],
            "image/png": "[encoded data removed]"
          },
          "metadata": {}
        }
      ],
      "source": [
        "plot_graph(nx_SG_d1)"
      ]
    }
  ],
  "metadata": {
    "kernelspec": {
      "display_name": "Python 3",
      "language": "python",
      "name": "python3"
    },
    "language_info": {
      "codemirror_mode": {
        "name": "ipython",
        "version": 3
      },
      "file_extension": ".py",
      "mimetype": "text/x-python",
      "name": "python",
      "nbconvert_exporter": "python",
      "pygments_lexer": "ipython3",
      "version": "3.7.7"
    },
    "colab": {
      "provenance": []
    }
  },
  "nbformat": 4,
  "nbformat_minor": 0
}