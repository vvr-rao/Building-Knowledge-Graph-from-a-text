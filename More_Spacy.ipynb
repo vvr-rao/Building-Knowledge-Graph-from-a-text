{
  "nbformat": 4,
  "nbformat_minor": 0,
  "metadata": {
    "colab": {
      "provenance": []
    },
    "kernelspec": {
      "name": "python3",
      "display_name": "Python 3"
    },
    "language_info": {
      "name": "python"
    }
  },
  "cells": [
    {
      "cell_type": "code",
      "execution_count": 1,
      "metadata": {
        "colab": {
          "base_uri": "https://localhost:8080/"
        },
        "id": "MB2kueeu-HLh",
        "outputId": "52fcff23-09de-4c14-b910-c5f31f3b568c"
      },
      "outputs": [
        {
          "output_type": "stream",
          "name": "stderr",
          "text": [
            "/usr/local/lib/python3.8/dist-packages/torch/cuda/__init__.py:497: UserWarning: Can't initialize NVML\n",
            "  warnings.warn(\"Can't initialize NVML\")\n"
          ]
        }
      ],
      "source": [
        "import re\n",
        "import pandas as pd\n",
        "import bs4\n",
        "import requests\n",
        "import spacy\n",
        "from spacy import displacy\n",
        "\n",
        "\n",
        "from spacy.matcher import Matcher \n",
        "from spacy.tokens import Span \n",
        "\n",
        "import networkx as nx\n",
        "\n",
        "import matplotlib.pyplot as plt\n",
        "from tqdm import tqdm\n",
        "\n",
        "pd.set_option('display.max_colwidth', 200)\n",
        "%matplotlib inline"
      ]
    },
    {
      "cell_type": "code",
      "source": [
        "!python -m spacy download en_core_web_lg"
      ],
      "metadata": {
        "colab": {
          "base_uri": "https://localhost:8080/"
        },
        "id": "XKw-J4kR-h5V",
        "outputId": "f45ecf0b-e76d-417d-9479-41843f936119"
      },
      "execution_count": 3,
      "outputs": [
        {
          "output_type": "stream",
          "name": "stdout",
          "text": [
            "/usr/local/lib/python3.8/dist-packages/torch/cuda/__init__.py:497: UserWarning: Can't initialize NVML\n",
            "  warnings.warn(\"Can't initialize NVML\")\n",
            "2023-01-07 16:05:00.041374: E tensorflow/stream_executor/cuda/cuda_driver.cc:271] failed call to cuInit: CUDA_ERROR_NO_DEVICE: no CUDA-capable device is detected\n",
            "Looking in indexes: https://pypi.org/simple, https://us-python.pkg.dev/colab-wheels/public/simple/\n",
            "Collecting en-core-web-lg==3.4.1\n",
            "  Downloading https://github.com/explosion/spacy-models/releases/download/en_core_web_lg-3.4.1/en_core_web_lg-3.4.1-py3-none-any.whl (587.7 MB)\n",
            "\u001b[2K     \u001b[90m━━━━━━━━━━━━━━━━━━━━━━━━━━━━━━━━━━━━━━━\u001b[0m \u001b[32m587.7/587.7 MB\u001b[0m \u001b[31m3.2 MB/s\u001b[0m eta \u001b[36m0:00:00\u001b[0m\n",
            "\u001b[?25hRequirement already satisfied: spacy<3.5.0,>=3.4.0 in /usr/local/lib/python3.8/dist-packages (from en-core-web-lg==3.4.1) (3.4.4)\n",
            "Requirement already satisfied: cymem<2.1.0,>=2.0.2 in /usr/local/lib/python3.8/dist-packages (from spacy<3.5.0,>=3.4.0->en-core-web-lg==3.4.1) (2.0.7)\n",
            "Requirement already satisfied: spacy-legacy<3.1.0,>=3.0.10 in /usr/local/lib/python3.8/dist-packages (from spacy<3.5.0,>=3.4.0->en-core-web-lg==3.4.1) (3.0.10)\n",
            "Requirement already satisfied: tqdm<5.0.0,>=4.38.0 in /usr/local/lib/python3.8/dist-packages (from spacy<3.5.0,>=3.4.0->en-core-web-lg==3.4.1) (4.64.1)\n",
            "Requirement already satisfied: pathy>=0.3.5 in /usr/local/lib/python3.8/dist-packages (from spacy<3.5.0,>=3.4.0->en-core-web-lg==3.4.1) (0.10.1)\n",
            "Requirement already satisfied: catalogue<2.1.0,>=2.0.6 in /usr/local/lib/python3.8/dist-packages (from spacy<3.5.0,>=3.4.0->en-core-web-lg==3.4.1) (2.0.8)\n",
            "Requirement already satisfied: spacy-loggers<2.0.0,>=1.0.0 in /usr/local/lib/python3.8/dist-packages (from spacy<3.5.0,>=3.4.0->en-core-web-lg==3.4.1) (1.0.4)\n",
            "Requirement already satisfied: requests<3.0.0,>=2.13.0 in /usr/local/lib/python3.8/dist-packages (from spacy<3.5.0,>=3.4.0->en-core-web-lg==3.4.1) (2.25.1)\n",
            "Requirement already satisfied: langcodes<4.0.0,>=3.2.0 in /usr/local/lib/python3.8/dist-packages (from spacy<3.5.0,>=3.4.0->en-core-web-lg==3.4.1) (3.3.0)\n",
            "Requirement already satisfied: smart-open<7.0.0,>=5.2.1 in /usr/local/lib/python3.8/dist-packages (from spacy<3.5.0,>=3.4.0->en-core-web-lg==3.4.1) (6.3.0)\n",
            "Requirement already satisfied: thinc<8.2.0,>=8.1.0 in /usr/local/lib/python3.8/dist-packages (from spacy<3.5.0,>=3.4.0->en-core-web-lg==3.4.1) (8.1.6)\n",
            "Requirement already satisfied: preshed<3.1.0,>=3.0.2 in /usr/local/lib/python3.8/dist-packages (from spacy<3.5.0,>=3.4.0->en-core-web-lg==3.4.1) (3.0.8)\n",
            "Requirement already satisfied: numpy>=1.15.0 in /usr/local/lib/python3.8/dist-packages (from spacy<3.5.0,>=3.4.0->en-core-web-lg==3.4.1) (1.21.6)\n",
            "Requirement already satisfied: jinja2 in /usr/local/lib/python3.8/dist-packages (from spacy<3.5.0,>=3.4.0->en-core-web-lg==3.4.1) (2.11.3)\n",
            "Requirement already satisfied: srsly<3.0.0,>=2.4.3 in /usr/local/lib/python3.8/dist-packages (from spacy<3.5.0,>=3.4.0->en-core-web-lg==3.4.1) (2.4.5)\n",
            "Requirement already satisfied: pydantic!=1.8,!=1.8.1,<1.11.0,>=1.7.4 in /usr/local/lib/python3.8/dist-packages (from spacy<3.5.0,>=3.4.0->en-core-web-lg==3.4.1) (1.10.2)\n",
            "Requirement already satisfied: murmurhash<1.1.0,>=0.28.0 in /usr/local/lib/python3.8/dist-packages (from spacy<3.5.0,>=3.4.0->en-core-web-lg==3.4.1) (1.0.9)\n",
            "Requirement already satisfied: packaging>=20.0 in /usr/local/lib/python3.8/dist-packages (from spacy<3.5.0,>=3.4.0->en-core-web-lg==3.4.1) (21.3)\n",
            "Requirement already satisfied: typer<0.8.0,>=0.3.0 in /usr/local/lib/python3.8/dist-packages (from spacy<3.5.0,>=3.4.0->en-core-web-lg==3.4.1) (0.7.0)\n",
            "Requirement already satisfied: setuptools in /usr/local/lib/python3.8/dist-packages (from spacy<3.5.0,>=3.4.0->en-core-web-lg==3.4.1) (57.4.0)\n",
            "Requirement already satisfied: wasabi<1.1.0,>=0.9.1 in /usr/local/lib/python3.8/dist-packages (from spacy<3.5.0,>=3.4.0->en-core-web-lg==3.4.1) (0.10.1)\n",
            "Requirement already satisfied: pyparsing!=3.0.5,>=2.0.2 in /usr/local/lib/python3.8/dist-packages (from packaging>=20.0->spacy<3.5.0,>=3.4.0->en-core-web-lg==3.4.1) (3.0.9)\n",
            "Requirement already satisfied: typing-extensions>=4.1.0 in /usr/local/lib/python3.8/dist-packages (from pydantic!=1.8,!=1.8.1,<1.11.0,>=1.7.4->spacy<3.5.0,>=3.4.0->en-core-web-lg==3.4.1) (4.4.0)\n",
            "Requirement already satisfied: idna<3,>=2.5 in /usr/local/lib/python3.8/dist-packages (from requests<3.0.0,>=2.13.0->spacy<3.5.0,>=3.4.0->en-core-web-lg==3.4.1) (2.10)\n",
            "Requirement already satisfied: chardet<5,>=3.0.2 in /usr/local/lib/python3.8/dist-packages (from requests<3.0.0,>=2.13.0->spacy<3.5.0,>=3.4.0->en-core-web-lg==3.4.1) (4.0.0)\n",
            "Requirement already satisfied: urllib3<1.27,>=1.21.1 in /usr/local/lib/python3.8/dist-packages (from requests<3.0.0,>=2.13.0->spacy<3.5.0,>=3.4.0->en-core-web-lg==3.4.1) (1.24.3)\n",
            "Requirement already satisfied: certifi>=2017.4.17 in /usr/local/lib/python3.8/dist-packages (from requests<3.0.0,>=2.13.0->spacy<3.5.0,>=3.4.0->en-core-web-lg==3.4.1) (2022.12.7)\n",
            "Requirement already satisfied: confection<1.0.0,>=0.0.1 in /usr/local/lib/python3.8/dist-packages (from thinc<8.2.0,>=8.1.0->spacy<3.5.0,>=3.4.0->en-core-web-lg==3.4.1) (0.0.3)\n",
            "Requirement already satisfied: blis<0.8.0,>=0.7.8 in /usr/local/lib/python3.8/dist-packages (from thinc<8.2.0,>=8.1.0->spacy<3.5.0,>=3.4.0->en-core-web-lg==3.4.1) (0.7.9)\n",
            "Requirement already satisfied: click<9.0.0,>=7.1.1 in /usr/local/lib/python3.8/dist-packages (from typer<0.8.0,>=0.3.0->spacy<3.5.0,>=3.4.0->en-core-web-lg==3.4.1) (7.1.2)\n",
            "Requirement already satisfied: MarkupSafe>=0.23 in /usr/local/lib/python3.8/dist-packages (from jinja2->spacy<3.5.0,>=3.4.0->en-core-web-lg==3.4.1) (2.0.1)\n",
            "Installing collected packages: en-core-web-lg\n",
            "Successfully installed en-core-web-lg-3.4.1\n",
            "\u001b[38;5;2m✔ Download and installation successful\u001b[0m\n",
            "You can now load the package via spacy.load('en_core_web_lg')\n"
          ]
        }
      ]
    },
    {
      "cell_type": "code",
      "source": [
        "nlp = spacy.load('en_core_web_lg')"
      ],
      "metadata": {
        "id": "DJyDEqv2-XOU"
      },
      "execution_count": 4,
      "outputs": []
    },
    {
      "cell_type": "code",
      "source": [
        "doc = nlp(\"the drawdown process is governed by astm standard d823\")\n",
        "\n",
        "for tok in doc:\n",
        "  print(tok.text, \"...\", tok.dep_)"
      ],
      "metadata": {
        "colab": {
          "base_uri": "https://localhost:8080/"
        },
        "id": "z7SIjos5-rQC",
        "outputId": "369175f1-5981-45a7-f21e-d3a4777dbd52"
      },
      "execution_count": 5,
      "outputs": [
        {
          "output_type": "stream",
          "name": "stdout",
          "text": [
            "the ... det\n",
            "drawdown ... compound\n",
            "process ... nsubjpass\n",
            "is ... auxpass\n",
            "governed ... ROOT\n",
            "by ... agent\n",
            "astm ... compound\n",
            "standard ... compound\n",
            "d823 ... pobj\n"
          ]
        }
      ]
    },
    {
      "cell_type": "code",
      "source": [
        "def get_entities(sent):\n",
        "  ## chunk 1\n",
        "  ent1 = \"\"\n",
        "  ent2 = \"\"\n",
        "\n",
        "  prv_tok_dep = \"\"    # dependency tag of previous token in the sentence\n",
        "  prv_tok_text = \"\"   # previous token in the sentence\n",
        "\n",
        "  prefix = \"\"\n",
        "  modifier = \"\"\n",
        "\n",
        "  #############################################################\n",
        "  \n",
        "  for tok in nlp(sent):\n",
        "    ## chunk 2\n",
        "    # if token is a punctuation mark then move on to the next token\n",
        "    if tok.dep_ != \"punct\":\n",
        "      # check: token is a compound word or not\n",
        "      if tok.dep_ == \"compound\":\n",
        "        prefix = tok.text\n",
        "        # if the previous word was also a 'compound' then add the current word to it\n",
        "        if prv_tok_dep == \"compound\":\n",
        "          prefix = prv_tok_text + \" \"+ tok.text\n",
        "      \n",
        "      # check: token is a modifier or not\n",
        "      if tok.dep_.endswith(\"mod\") == True:\n",
        "        modifier = tok.text\n",
        "        # if the previous word was also a 'compound' then add the current word to it\n",
        "        if prv_tok_dep == \"compound\":\n",
        "          modifier = prv_tok_text + \" \"+ tok.text\n",
        "      \n",
        "      ## chunk 3\n",
        "      if tok.dep_.find(\"subj\") == True:\n",
        "        ent1 = modifier +\" \"+ prefix + \" \"+ tok.text\n",
        "        prefix = \"\"\n",
        "        modifier = \"\"\n",
        "        prv_tok_dep = \"\"\n",
        "        prv_tok_text = \"\"      \n",
        "\n",
        "      ## chunk 4\n",
        "      if tok.dep_.find(\"obj\") == True:\n",
        "        ent2 = modifier +\" \"+ prefix +\" \"+ tok.text\n",
        "        \n",
        "      ## chunk 5  \n",
        "      # update variables\n",
        "      prv_tok_dep = tok.dep_\n",
        "      prv_tok_text = tok.text\n",
        "  #############################################################\n",
        "\n",
        "  return [ent1.strip(), ent2.strip()]"
      ],
      "metadata": {
        "id": "n2ZVO4Kx-rj-"
      },
      "execution_count": 6,
      "outputs": []
    },
    {
      "cell_type": "code",
      "source": [
        "def get_relation(sent):\n",
        "\n",
        "  doc = nlp(sent)\n",
        "\n",
        "  # Matcher class object \n",
        "  matcher = Matcher(nlp.vocab)\n",
        "\n",
        "  #define the pattern \n",
        "  pattern = [{'DEP':'ROOT'}, \n",
        "            {'DEP':'prep','OP':\"?\"},\n",
        "            {'DEP':'agent','OP':\"?\"},  \n",
        "            {'POS':'ADJ','OP':\"?\"}] \n",
        "\n",
        "  matcher.add(\"matching_1\",  [pattern]) \n",
        "\n",
        "  matches = matcher(doc)\n",
        "  k = len(matches) - 1\n",
        "\n",
        "  span = doc[matches[k][1]:matches[k][2]] \n",
        "\n",
        "  return(span.text)"
      ],
      "metadata": {
        "id": "1EkbaShqANnt"
      },
      "execution_count": 17,
      "outputs": []
    },
    {
      "cell_type": "code",
      "source": [
        "get_entities(\"the film had 200 patents\")"
      ],
      "metadata": {
        "colab": {
          "base_uri": "https://localhost:8080/"
        },
        "id": "o81w22C6-rs7",
        "outputId": "726151cd-d291-4a0f-fde2-2a97a9e0dd5d"
      },
      "execution_count": 7,
      "outputs": [
        {
          "output_type": "execute_result",
          "data": {
            "text/plain": [
              "['film', '200  patents']"
            ]
          },
          "metadata": {},
          "execution_count": 7
        }
      ]
    },
    {
      "cell_type": "code",
      "source": [
        "sent1 = \"suppressor phosphatase  and  tensin homolog  (PTEN)  function  increases  B7-H1  expression  and immune resistance in glioma\""
      ],
      "metadata": {
        "id": "U9XQovaX_I5T"
      },
      "execution_count": 9,
      "outputs": []
    },
    {
      "cell_type": "code",
      "source": [
        "doc = nlp(sent1)\n",
        "\n",
        "for tok in doc:\n",
        "  print(tok.text, \"...\", tok.dep_)"
      ],
      "metadata": {
        "colab": {
          "base_uri": "https://localhost:8080/"
        },
        "id": "u_ymIBwvBi8X",
        "outputId": "825c5682-a781-41c7-a9c4-66e7e294d21c"
      },
      "execution_count": 21,
      "outputs": [
        {
          "output_type": "stream",
          "name": "stdout",
          "text": [
            "suppressor ... compound\n",
            "phosphatase ... nsubj\n",
            "  ... dep\n",
            "and ... cc\n",
            "  ... dep\n",
            "tensin ... conj\n",
            "homolog ... nsubj\n",
            "  ... dep\n",
            "( ... punct\n",
            "PTEN ... appos\n",
            ") ... punct\n",
            "  ... dep\n",
            "function ... compound\n",
            "  ... dep\n",
            "increases ... ROOT\n",
            "  ... dep\n",
            "B7 ... compound\n",
            "- ... punct\n",
            "H1 ... compound\n",
            "  ... dep\n",
            "expression ... dobj\n",
            "  ... dep\n",
            "and ... cc\n",
            "immune ... amod\n",
            "resistance ... conj\n",
            "in ... prep\n",
            "glioma ... pobj\n"
          ]
        }
      ]
    },
    {
      "cell_type": "code",
      "source": [
        "print(get_entities(sent1))\n",
        "print(get_relation(sent1))"
      ],
      "metadata": {
        "colab": {
          "base_uri": "https://localhost:8080/"
        },
        "id": "apytCZmG-lXA",
        "outputId": "878939b8-3655-4f97-872d-602ce168488e"
      },
      "execution_count": 22,
      "outputs": [
        {
          "output_type": "stream",
          "name": "stdout",
          "text": [
            "['homolog', 'immune B7 H1 glioma']\n",
            "increases\n"
          ]
        }
      ]
    },
    {
      "cell_type": "code",
      "source": [
        "sent2 = \"Phase II trial Evaluating Predicting of Response to Adjuvant Treatment with Immune \\nCheckpoint Inhibition (ICI) in Patients with Newly Diagnosed Glioblastoma or Gliosarcoma\""
      ],
      "metadata": {
        "id": "qgFXlaSQ_Hmg"
      },
      "execution_count": 23,
      "outputs": []
    },
    {
      "cell_type": "code",
      "source": [
        "doc = nlp(sent2)\n",
        "\n",
        "for tok in doc:\n",
        "  print(tok.text, \"...\", tok.dep_)"
      ],
      "metadata": {
        "colab": {
          "base_uri": "https://localhost:8080/"
        },
        "id": "sHwys1gQBz6M",
        "outputId": "0e605c1a-7432-4ef6-de3c-6c21db902983"
      },
      "execution_count": 24,
      "outputs": [
        {
          "output_type": "stream",
          "name": "stdout",
          "text": [
            "Phase ... compound\n",
            "II ... compound\n",
            "trial ... ROOT\n",
            "Evaluating ... acl\n",
            "Predicting ... dobj\n",
            "of ... prep\n",
            "Response ... pobj\n",
            "to ... prep\n",
            "Adjuvant ... compound\n",
            "Treatment ... pobj\n",
            "with ... prep\n",
            "Immune ... compound\n",
            "\n",
            " ... dep\n",
            "Checkpoint ... compound\n",
            "Inhibition ... pobj\n",
            "( ... punct\n",
            "ICI ... appos\n",
            ") ... punct\n",
            "in ... prep\n",
            "Patients ... pobj\n",
            "with ... prep\n",
            "Newly ... advmod\n",
            "Diagnosed ... amod\n",
            "Glioblastoma ... pobj\n",
            "or ... cc\n",
            "Gliosarcoma ... conj\n"
          ]
        }
      ]
    },
    {
      "cell_type": "code",
      "source": [
        "print(get_entities(sent2))\n",
        "print(get_relation(sent2))"
      ],
      "metadata": {
        "colab": {
          "base_uri": "https://localhost:8080/"
        },
        "id": "Lwt2bHlL_HvR",
        "outputId": "5e720672-8670-4058-fe54-d2a7c676f77f"
      },
      "execution_count": 25,
      "outputs": [
        {
          "output_type": "stream",
          "name": "stdout",
          "text": [
            "['', 'Diagnosed Checkpoint Glioblastoma']\n",
            "trial\n"
          ]
        }
      ]
    },
    {
      "cell_type": "code",
      "source": [
        "sent3 = \"The immunosuppressive nature of GBM may be reversible with immune checkpoint \\ninhibitor (ICI) however initial studies have yet to demonstrate this\""
      ],
      "metadata": {
        "id": "7nUcI-Sc_HzX"
      },
      "execution_count": 26,
      "outputs": []
    },
    {
      "cell_type": "code",
      "source": [
        "print(get_entities(sent3))\n",
        "print(get_relation(sent3))"
      ],
      "metadata": {
        "colab": {
          "base_uri": "https://localhost:8080/"
        },
        "id": "undfaLu9_H2f",
        "outputId": "7bc55f8a-e89e-4376-b380-1572976789ec"
      },
      "execution_count": 27,
      "outputs": [
        {
          "output_type": "stream",
          "name": "stdout",
          "text": [
            "['initial checkpoint studies', 'yet  this']\n",
            "be reversible\n"
          ]
        }
      ]
    },
    {
      "cell_type": "code",
      "source": [
        "doc = nlp(sent3)\n",
        "\n",
        "for tok in doc:\n",
        "  print(tok.text, \"...\", tok.dep_)"
      ],
      "metadata": {
        "colab": {
          "base_uri": "https://localhost:8080/"
        },
        "id": "DZxklRvcECkQ",
        "outputId": "c85158eb-2939-40ee-e9e4-2b44cca92b8f"
      },
      "execution_count": 37,
      "outputs": [
        {
          "output_type": "stream",
          "name": "stdout",
          "text": [
            "The ... det\n",
            "immunosuppressive ... amod\n",
            "nature ... nsubj\n",
            "of ... prep\n",
            "GBM ... pobj\n",
            "may ... aux\n",
            "be ... ROOT\n",
            "reversible ... acomp\n",
            "with ... prep\n",
            "immune ... amod\n",
            "checkpoint ... compound\n",
            "\n",
            " ... dep\n",
            "inhibitor ... pobj\n",
            "( ... punct\n",
            "ICI ... appos\n",
            ") ... punct\n",
            "however ... advmod\n",
            "initial ... amod\n",
            "studies ... nsubj\n",
            "have ... advcl\n",
            "yet ... advmod\n",
            "to ... aux\n",
            "demonstrate ... xcomp\n",
            "this ... dobj\n"
          ]
        }
      ]
    },
    {
      "cell_type": "code",
      "source": [
        "doc = nlp(\"Autonomous cars shift insurance liability toward manufacturers\")\n",
        "for chunk in doc.noun_chunks:\n",
        "    print(chunk.text, chunk.root.text, chunk.root.dep_,\n",
        "            chunk.root.head.text)"
      ],
      "metadata": {
        "colab": {
          "base_uri": "https://localhost:8080/"
        },
        "id": "SZtZvZbbEy9Q",
        "outputId": "19a41476-6db4-4d45-eb1d-68e17e500864"
      },
      "execution_count": 38,
      "outputs": [
        {
          "output_type": "stream",
          "name": "stdout",
          "text": [
            "Autonomous cars cars nsubj shift\n",
            "insurance liability liability dobj shift\n",
            "manufacturers manufacturers pobj toward\n"
          ]
        }
      ]
    },
    {
      "cell_type": "code",
      "source": [
        "print(sent3)\n",
        "doc = nlp(sent3)\n",
        "for chunk in doc.noun_chunks:\n",
        "    print(chunk.text, \" - \", chunk.root.text, \" - \", chunk.root.dep_, \" - \",\n",
        "            chunk.root.head.text)\n",
        "\n",
        "print('=========================================')\n",
        "for tok in doc:\n",
        "  print(tok.text, \"...\", tok.dep_)"
      ],
      "metadata": {
        "colab": {
          "base_uri": "https://localhost:8080/"
        },
        "id": "xi4_0xl_EzGI",
        "outputId": "082cf980-943d-4742-c030-328a051e3b0e"
      },
      "execution_count": 46,
      "outputs": [
        {
          "output_type": "stream",
          "name": "stdout",
          "text": [
            "The immunosuppressive nature of GBM may be reversible with immune checkpoint \n",
            "inhibitor (ICI) however initial studies have yet to demonstrate this\n",
            "The immunosuppressive nature  -  nature  -  nsubj  -  be\n",
            "GBM  -  GBM  -  pobj  -  of\n",
            "immune checkpoint \n",
            "inhibitor  -  inhibitor  -  pobj  -  with\n",
            "ICI  -  ICI  -  appos  -  inhibitor\n",
            "initial studies  -  studies  -  nsubj  -  have\n",
            "this  -  this  -  dobj  -  demonstrate\n",
            "=========================================\n",
            "The ... det\n",
            "immunosuppressive ... amod\n",
            "nature ... nsubj\n",
            "of ... prep\n",
            "GBM ... pobj\n",
            "may ... aux\n",
            "be ... ROOT\n",
            "reversible ... acomp\n",
            "with ... prep\n",
            "immune ... amod\n",
            "checkpoint ... compound\n",
            "\n",
            " ... dep\n",
            "inhibitor ... pobj\n",
            "( ... punct\n",
            "ICI ... appos\n",
            ") ... punct\n",
            "however ... advmod\n",
            "initial ... amod\n",
            "studies ... nsubj\n",
            "have ... advcl\n",
            "yet ... advmod\n",
            "to ... aux\n",
            "demonstrate ... xcomp\n",
            "this ... dobj\n"
          ]
        }
      ]
    },
    {
      "cell_type": "code",
      "source": [
        "print(sent2)\n",
        "doc = nlp(sent2)\n",
        "for chunk in doc.noun_chunks:\n",
        "    print(chunk.text, \" - \", chunk.root.text, \" - \", chunk.root.dep_, \" - \",\n",
        "            chunk.root.head.text)\n",
        "\n",
        "print('=========================================')\n",
        "for tok in doc:\n",
        "  print(tok.text, \"...\", tok.dep_)"
      ],
      "metadata": {
        "colab": {
          "base_uri": "https://localhost:8080/"
        },
        "id": "gQJEpNtXEzKl",
        "outputId": "6606c651-fbec-4dcf-cc81-c9ffafb2abd0"
      },
      "execution_count": 45,
      "outputs": [
        {
          "output_type": "stream",
          "name": "stdout",
          "text": [
            "Phase II trial Evaluating Predicting of Response to Adjuvant Treatment with Immune \n",
            "Checkpoint Inhibition (ICI) in Patients with Newly Diagnosed Glioblastoma or Gliosarcoma\n",
            "Phase II trial  -  trial  -  ROOT  -  trial\n",
            "Predicting  -  Predicting  -  dobj  -  Evaluating\n",
            "Response  -  Response  -  pobj  -  of\n",
            "Adjuvant Treatment  -  Treatment  -  pobj  -  to\n",
            "Immune \n",
            "Checkpoint Inhibition  -  Inhibition  -  pobj  -  with\n",
            "ICI  -  ICI  -  appos  -  Inhibition\n",
            "Patients  -  Patients  -  pobj  -  in\n",
            "Newly Diagnosed Glioblastoma  -  Glioblastoma  -  pobj  -  with\n",
            "Gliosarcoma  -  Gliosarcoma  -  conj  -  Glioblastoma\n",
            "=========================================\n",
            "Phase ... compound\n",
            "II ... compound\n",
            "trial ... ROOT\n",
            "Evaluating ... acl\n",
            "Predicting ... dobj\n",
            "of ... prep\n",
            "Response ... pobj\n",
            "to ... prep\n",
            "Adjuvant ... compound\n",
            "Treatment ... pobj\n",
            "with ... prep\n",
            "Immune ... compound\n",
            "\n",
            " ... dep\n",
            "Checkpoint ... compound\n",
            "Inhibition ... pobj\n",
            "( ... punct\n",
            "ICI ... appos\n",
            ") ... punct\n",
            "in ... prep\n",
            "Patients ... pobj\n",
            "with ... prep\n",
            "Newly ... advmod\n",
            "Diagnosed ... amod\n",
            "Glioblastoma ... pobj\n",
            "or ... cc\n",
            "Gliosarcoma ... conj\n"
          ]
        }
      ]
    },
    {
      "cell_type": "code",
      "source": [
        "print(sent1)\n",
        "doc = nlp(sent1)\n",
        "for chunk in doc.noun_chunks:\n",
        "    print(chunk.text, \" - \", chunk.root.text, \" - \", chunk.root.dep_, \" - \",\n",
        "            chunk.root.head.text)\n",
        "\n",
        "print('=========================================')\n",
        "for tok in doc:\n",
        "  print(tok.text, \"...\", tok.dep_)"
      ],
      "metadata": {
        "colab": {
          "base_uri": "https://localhost:8080/"
        },
        "id": "lkUw0wWXEzNc",
        "outputId": "0c739508-be45-4e4e-99c4-1b320fcffe7d"
      },
      "execution_count": 44,
      "outputs": [
        {
          "output_type": "stream",
          "name": "stdout",
          "text": [
            "suppressor phosphatase  and  tensin homolog  (PTEN)  function  increases  B7-H1  expression  and immune resistance in glioma\n",
            "suppressor phosphatase  -  phosphatase  -  nsubj  -  increases\n",
            "tensin  -  tensin  -  conj  -  phosphatase\n",
            "homolog  -  homolog  -  nsubj  -  function\n",
            "(PTEN  -  PTEN  -  appos  -  homolog\n",
            "B7-H1  expression  -  expression  -  dobj  -  increases\n",
            "immune resistance  -  resistance  -  conj  -  expression\n",
            "glioma  -  glioma  -  pobj  -  in\n",
            "=========================================\n",
            "suppressor ... compound\n",
            "phosphatase ... nsubj\n",
            "  ... dep\n",
            "and ... cc\n",
            "  ... dep\n",
            "tensin ... conj\n",
            "homolog ... nsubj\n",
            "  ... dep\n",
            "( ... punct\n",
            "PTEN ... appos\n",
            ") ... punct\n",
            "  ... dep\n",
            "function ... compound\n",
            "  ... dep\n",
            "increases ... ROOT\n",
            "  ... dep\n",
            "B7 ... compound\n",
            "- ... punct\n",
            "H1 ... compound\n",
            "  ... dep\n",
            "expression ... dobj\n",
            "  ... dep\n",
            "and ... cc\n",
            "immune ... amod\n",
            "resistance ... conj\n",
            "in ... prep\n",
            "glioma ... pobj\n"
          ]
        }
      ]
    },
    {
      "cell_type": "code",
      "source": [],
      "metadata": {
        "id": "HKPCGSXHEzRw"
      },
      "execution_count": null,
      "outputs": []
    },
    {
      "cell_type": "code",
      "source": [],
      "metadata": {
        "id": "6kq_8vc1CjBV"
      },
      "execution_count": null,
      "outputs": []
    }
  ]
}