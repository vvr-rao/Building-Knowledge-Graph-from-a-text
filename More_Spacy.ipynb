{
  "nbformat": 4,
  "nbformat_minor": 0,
  "metadata": {
    "colab": {
      "provenance": []
    },
    "kernelspec": {
      "name": "python3",
      "display_name": "Python 3"
    },
    "language_info": {
      "name": "python"
    }
  },
  "cells": [
    {
      "cell_type": "code",
      "execution_count": 1,
      "metadata": {
        "colab": {
          "base_uri": "https://localhost:8080/"
        },
        "id": "MB2kueeu-HLh",
        "outputId": "fe5faa56-4c3d-4ffc-a4a2-e59b3b43852b"
      },
      "outputs": [
        {
          "output_type": "stream",
          "name": "stderr",
          "text": [
            "/usr/local/lib/python3.8/dist-packages/torch/cuda/__init__.py:497: UserWarning: Can't initialize NVML\n",
            "  warnings.warn(\"Can't initialize NVML\")\n"
          ]
        }
      ],
      "source": [
        "import re\n",
        "import pandas as pd\n",
        "import bs4\n",
        "import requests\n",
        "import spacy\n",
        "from spacy import displacy\n",
        "\n",
        "\n",
        "from spacy.matcher import Matcher \n",
        "from spacy.tokens import Span \n",
        "\n",
        "from spacy import displacy\n",
        "\n",
        "import networkx as nx\n",
        "\n",
        "import matplotlib.pyplot as plt\n",
        "from tqdm import tqdm\n",
        "\n",
        "pd.set_option('display.max_colwidth', 200)\n",
        "%matplotlib inline"
      ]
    },
    {
      "cell_type": "code",
      "source": [
        "#!python -m spacy download en_core_web_lg"
      ],
      "metadata": {
        "id": "XKw-J4kR-h5V"
      },
      "execution_count": 3,
      "outputs": []
    },
    {
      "cell_type": "code",
      "source": [
        "nlp = spacy.load('en_core_web_lg')"
      ],
      "metadata": {
        "id": "DJyDEqv2-XOU"
      },
      "execution_count": 2,
      "outputs": []
    },
    {
      "cell_type": "code",
      "source": [
        "doc = nlp(\"the drawdown process is governed by astm standard d823\")\n",
        "\n",
        "for tok in doc:\n",
        "  print(tok.text, \"...\", tok.dep_)"
      ],
      "metadata": {
        "colab": {
          "base_uri": "https://localhost:8080/"
        },
        "id": "z7SIjos5-rQC",
        "outputId": "b449f323-6ef0-421e-8552-6dc5a9632e88"
      },
      "execution_count": 4,
      "outputs": [
        {
          "output_type": "stream",
          "name": "stdout",
          "text": [
            "the ... det\n",
            "drawdown ... compound\n",
            "process ... nsubjpass\n",
            "is ... auxpass\n",
            "governed ... ROOT\n",
            "by ... agent\n",
            "astm ... compound\n",
            "standard ... compound\n",
            "d823 ... pobj\n"
          ]
        }
      ]
    },
    {
      "cell_type": "code",
      "source": [
        "def get_entities(sent):\n",
        "  ## chunk 1\n",
        "  ent1 = \"\"\n",
        "  ent2 = \"\"\n",
        "\n",
        "  prv_tok_dep = \"\"    # dependency tag of previous token in the sentence\n",
        "  prv_tok_text = \"\"   # previous token in the sentence\n",
        "\n",
        "  prefix = \"\"\n",
        "  modifier = \"\"\n",
        "\n",
        "  #############################################################\n",
        "  \n",
        "  for tok in nlp(sent):\n",
        "    ## chunk 2\n",
        "    # if token is a punctuation mark then move on to the next token\n",
        "    if tok.dep_ != \"punct\":\n",
        "      # check: token is a compound word or not\n",
        "      if tok.dep_ == \"compound\":\n",
        "        prefix = tok.text\n",
        "        # if the previous word was also a 'compound' then add the current word to it\n",
        "        if prv_tok_dep == \"compound\":\n",
        "          prefix = prv_tok_text + \" \"+ tok.text\n",
        "      \n",
        "      # check: token is a modifier or not\n",
        "      if tok.dep_.endswith(\"mod\") == True:\n",
        "        modifier = tok.text\n",
        "        # if the previous word was also a 'compound' then add the current word to it\n",
        "        if prv_tok_dep == \"compound\":\n",
        "          modifier = prv_tok_text + \" \"+ tok.text\n",
        "      \n",
        "      ## chunk 3\n",
        "      if tok.dep_.find(\"subj\") == True:\n",
        "        ent1 = modifier +\" \"+ prefix + \" \"+ tok.text\n",
        "        prefix = \"\"\n",
        "        modifier = \"\"\n",
        "        prv_tok_dep = \"\"\n",
        "        prv_tok_text = \"\"      \n",
        "\n",
        "      ## chunk 4\n",
        "      if tok.dep_.find(\"obj\") == True:\n",
        "        ent2 = modifier +\" \"+ prefix +\" \"+ tok.text\n",
        "        \n",
        "      ## chunk 5  \n",
        "      # update variables\n",
        "      prv_tok_dep = tok.dep_\n",
        "      prv_tok_text = tok.text\n",
        "  #############################################################\n",
        "\n",
        "  return [ent1.strip(), ent2.strip()]"
      ],
      "metadata": {
        "id": "n2ZVO4Kx-rj-"
      },
      "execution_count": 5,
      "outputs": []
    },
    {
      "cell_type": "code",
      "source": [
        "def get_relation(sent):\n",
        "\n",
        "  doc = nlp(sent)\n",
        "\n",
        "  # Matcher class object \n",
        "  matcher = Matcher(nlp.vocab)\n",
        "\n",
        "  #define the pattern \n",
        "  pattern = [{'DEP':'ROOT'}, \n",
        "            {'DEP':'prep','OP':\"?\"},\n",
        "            {'DEP':'agent','OP':\"?\"},  \n",
        "            {'POS':'ADJ','OP':\"?\"}] \n",
        "\n",
        "  matcher.add(\"matching_1\",  [pattern]) \n",
        "\n",
        "  matches = matcher(doc)\n",
        "  k = len(matches) - 1\n",
        "\n",
        "  span = doc[matches[k][1]:matches[k][2]] \n",
        "\n",
        "  return(span.text)"
      ],
      "metadata": {
        "id": "1EkbaShqANnt"
      },
      "execution_count": 6,
      "outputs": []
    },
    {
      "cell_type": "code",
      "source": [
        "get_entities(\"the film had 200 patents\")"
      ],
      "metadata": {
        "colab": {
          "base_uri": "https://localhost:8080/"
        },
        "id": "o81w22C6-rs7",
        "outputId": "9a1e36e0-59f0-45b3-f751-567bbb881b41"
      },
      "execution_count": 7,
      "outputs": [
        {
          "output_type": "execute_result",
          "data": {
            "text/plain": [
              "['film', '200  patents']"
            ]
          },
          "metadata": {},
          "execution_count": 7
        }
      ]
    },
    {
      "cell_type": "code",
      "source": [
        "sent1 = \"suppressor phosphatase  and  tensin homolog  (PTEN)  function  increases  B7-H1  expression  and immune resistance in glioma\""
      ],
      "metadata": {
        "id": "U9XQovaX_I5T"
      },
      "execution_count": 8,
      "outputs": []
    },
    {
      "cell_type": "code",
      "source": [
        "doc = nlp(sent1)\n",
        "\n",
        "for tok in doc:\n",
        "  print(tok.text, \"...\", tok.dep_)"
      ],
      "metadata": {
        "colab": {
          "base_uri": "https://localhost:8080/"
        },
        "id": "u_ymIBwvBi8X",
        "outputId": "ec70cfea-6e14-4e73-b006-2e3a1ea6f07d"
      },
      "execution_count": 9,
      "outputs": [
        {
          "output_type": "stream",
          "name": "stdout",
          "text": [
            "suppressor ... compound\n",
            "phosphatase ... nsubj\n",
            "  ... dep\n",
            "and ... cc\n",
            "  ... dep\n",
            "tensin ... conj\n",
            "homolog ... nsubj\n",
            "  ... dep\n",
            "( ... punct\n",
            "PTEN ... appos\n",
            ") ... punct\n",
            "  ... dep\n",
            "function ... compound\n",
            "  ... dep\n",
            "increases ... ROOT\n",
            "  ... dep\n",
            "B7 ... compound\n",
            "- ... punct\n",
            "H1 ... compound\n",
            "  ... dep\n",
            "expression ... dobj\n",
            "  ... dep\n",
            "and ... cc\n",
            "immune ... amod\n",
            "resistance ... conj\n",
            "in ... prep\n",
            "glioma ... pobj\n"
          ]
        }
      ]
    },
    {
      "cell_type": "code",
      "source": [
        "print(get_entities(sent1))\n",
        "print(get_relation(sent1))"
      ],
      "metadata": {
        "colab": {
          "base_uri": "https://localhost:8080/"
        },
        "id": "apytCZmG-lXA",
        "outputId": "8ff99d16-bcb4-4b6f-d024-12c965dad927"
      },
      "execution_count": 10,
      "outputs": [
        {
          "output_type": "stream",
          "name": "stdout",
          "text": [
            "['homolog', 'immune B7 H1 glioma']\n",
            "increases\n"
          ]
        }
      ]
    },
    {
      "cell_type": "code",
      "source": [
        "sent2 = \"Phase II trial Evaluating Predicting of Response to Adjuvant Treatment with Immune \\nCheckpoint Inhibition (ICI) in Patients with Newly Diagnosed Glioblastoma or Gliosarcoma\""
      ],
      "metadata": {
        "id": "qgFXlaSQ_Hmg"
      },
      "execution_count": 11,
      "outputs": []
    },
    {
      "cell_type": "code",
      "source": [
        "doc = nlp(sent2)\n",
        "\n",
        "for tok in doc:\n",
        "  print(tok.text, \"...\", tok.dep_)"
      ],
      "metadata": {
        "colab": {
          "base_uri": "https://localhost:8080/"
        },
        "id": "sHwys1gQBz6M",
        "outputId": "e6c33b1a-179f-494d-8f05-0fec5f0b8c75"
      },
      "execution_count": 12,
      "outputs": [
        {
          "output_type": "stream",
          "name": "stdout",
          "text": [
            "Phase ... compound\n",
            "II ... compound\n",
            "trial ... ROOT\n",
            "Evaluating ... acl\n",
            "Predicting ... dobj\n",
            "of ... prep\n",
            "Response ... pobj\n",
            "to ... prep\n",
            "Adjuvant ... compound\n",
            "Treatment ... pobj\n",
            "with ... prep\n",
            "Immune ... compound\n",
            "\n",
            " ... dep\n",
            "Checkpoint ... compound\n",
            "Inhibition ... pobj\n",
            "( ... punct\n",
            "ICI ... appos\n",
            ") ... punct\n",
            "in ... prep\n",
            "Patients ... pobj\n",
            "with ... prep\n",
            "Newly ... advmod\n",
            "Diagnosed ... amod\n",
            "Glioblastoma ... pobj\n",
            "or ... cc\n",
            "Gliosarcoma ... conj\n"
          ]
        }
      ]
    },
    {
      "cell_type": "code",
      "source": [
        "print(get_entities(sent2))\n",
        "print(get_relation(sent2))"
      ],
      "metadata": {
        "colab": {
          "base_uri": "https://localhost:8080/"
        },
        "id": "Lwt2bHlL_HvR",
        "outputId": "562cb14d-b65d-4775-a1f9-292a71ad46f0"
      },
      "execution_count": 13,
      "outputs": [
        {
          "output_type": "stream",
          "name": "stdout",
          "text": [
            "['', 'Diagnosed Checkpoint Glioblastoma']\n",
            "trial\n"
          ]
        }
      ]
    },
    {
      "cell_type": "code",
      "source": [
        "sent3 = \"The immunosuppressive nature of GBM may be reversible with immune checkpoint \\ninhibitor (ICI) however initial studies have yet to demonstrate this\""
      ],
      "metadata": {
        "id": "7nUcI-Sc_HzX"
      },
      "execution_count": 14,
      "outputs": []
    },
    {
      "cell_type": "code",
      "source": [
        "print(get_entities(sent3))\n",
        "print(get_relation(sent3))"
      ],
      "metadata": {
        "colab": {
          "base_uri": "https://localhost:8080/"
        },
        "id": "undfaLu9_H2f",
        "outputId": "8ebec6c5-8755-4883-c03c-ed6d0485cb7c"
      },
      "execution_count": 15,
      "outputs": [
        {
          "output_type": "stream",
          "name": "stdout",
          "text": [
            "['initial checkpoint studies', 'yet  this']\n",
            "be reversible\n"
          ]
        }
      ]
    },
    {
      "cell_type": "code",
      "source": [
        "doc = nlp(sent3)\n",
        "\n",
        "for tok in doc:\n",
        "  print(tok.text, \"...\", tok.dep_)"
      ],
      "metadata": {
        "colab": {
          "base_uri": "https://localhost:8080/"
        },
        "id": "DZxklRvcECkQ",
        "outputId": "ffd0734a-aba9-4361-855a-6c8d342ad7a4"
      },
      "execution_count": 16,
      "outputs": [
        {
          "output_type": "stream",
          "name": "stdout",
          "text": [
            "The ... det\n",
            "immunosuppressive ... amod\n",
            "nature ... nsubj\n",
            "of ... prep\n",
            "GBM ... pobj\n",
            "may ... aux\n",
            "be ... ROOT\n",
            "reversible ... acomp\n",
            "with ... prep\n",
            "immune ... amod\n",
            "checkpoint ... compound\n",
            "\n",
            " ... dep\n",
            "inhibitor ... pobj\n",
            "( ... punct\n",
            "ICI ... appos\n",
            ") ... punct\n",
            "however ... advmod\n",
            "initial ... amod\n",
            "studies ... nsubj\n",
            "have ... advcl\n",
            "yet ... advmod\n",
            "to ... aux\n",
            "demonstrate ... xcomp\n",
            "this ... dobj\n"
          ]
        }
      ]
    },
    {
      "cell_type": "code",
      "source": [
        "doc = nlp(\"Autonomous cars shift insurance liability toward manufacturers\")\n",
        "for chunk in doc.noun_chunks:\n",
        "    print(chunk.text, chunk.root.text, chunk.root.dep_,\n",
        "            chunk.root.head.text)"
      ],
      "metadata": {
        "colab": {
          "base_uri": "https://localhost:8080/"
        },
        "id": "SZtZvZbbEy9Q",
        "outputId": "5b298bdf-81bb-4416-97cd-a609b7f7f4f2"
      },
      "execution_count": 17,
      "outputs": [
        {
          "output_type": "stream",
          "name": "stdout",
          "text": [
            "Autonomous cars cars nsubj shift\n",
            "insurance liability liability dobj shift\n",
            "manufacturers manufacturers pobj toward\n"
          ]
        }
      ]
    },
    {
      "cell_type": "code",
      "source": [
        "print('=========================================')\n",
        "print(sent3)\n",
        "print('=========================================')\n",
        "doc = nlp(sent3)\n",
        "for chunk in doc.noun_chunks:\n",
        "    print(chunk.text, \" - \", chunk.root.text, \" - \", chunk.root.dep_, \" - \",\n",
        "            chunk.root.head.text)\n",
        "print('=========================================')\n",
        "displacy.render(doc, style=\"dep\")\n",
        "print('=========================================')\n",
        "for tok in doc:\n",
        "  print(tok.text, \"...\", tok.dep_)"
      ],
      "metadata": {
        "colab": {
          "base_uri": "https://localhost:8080/"
        },
        "id": "xi4_0xl_EzGI",
        "outputId": "83dd55bb-7114-4ec9-ac71-8ca1a90a4f3e"
      },
      "execution_count": 22,
      "outputs": [
        {
          "output_type": "stream",
          "name": "stdout",
          "text": [
            "=========================================\n",
            "The immunosuppressive nature of GBM may be reversible with immune checkpoint \n",
            "inhibitor (ICI) however initial studies have yet to demonstrate this\n",
            "=========================================\n",
            "The immunosuppressive nature  -  nature  -  nsubj  -  be\n",
            "GBM  -  GBM  -  pobj  -  of\n",
            "immune checkpoint \n",
            "inhibitor  -  inhibitor  -  pobj  -  with\n",
            "ICI  -  ICI  -  appos  -  inhibitor\n",
            "initial studies  -  studies  -  nsubj  -  have\n",
            "this  -  this  -  dobj  -  demonstrate\n",
            "=========================================\n",
            "=========================================\n",
            "The ... det\n",
            "immunosuppressive ... amod\n",
            "nature ... nsubj\n",
            "of ... prep\n",
            "GBM ... pobj\n",
            "may ... aux\n",
            "be ... ROOT\n",
            "reversible ... acomp\n",
            "with ... prep\n",
            "immune ... amod\n",
            "checkpoint ... compound\n",
            "\n",
            " ... dep\n",
            "inhibitor ... pobj\n",
            "( ... punct\n",
            "ICI ... appos\n",
            ") ... punct\n",
            "however ... advmod\n",
            "initial ... amod\n",
            "studies ... nsubj\n",
            "have ... advcl\n",
            "yet ... advmod\n",
            "to ... aux\n",
            "demonstrate ... xcomp\n",
            "this ... dobj\n"
          ]
        }
      ]
    },
    {
      "cell_type": "code",
      "source": [
        "displacy.render(doc, style=\"dep\")"
      ],
      "metadata": {
        "colab": {
          "base_uri": "https://localhost:8080/",
          "height": 1000
        },
        "id": "Bl7qz4_oXa0O",
        "outputId": "82212432-da37-4bc5-9222-02185bca4503"
      },
      "execution_count": 23,
      "outputs": [
        {
          "output_type": "execute_result",
          "data": {
            "text/plain": [
              "'<svg xmlns=\"http://www.w3.org/2000/svg\" xmlns:xlink=\"http://www.w3.org/1999/xlink\" xml:lang=\"en\" id=\"0137015f4d2a44df8b4e81c005af5374-0\" class=\"displacy\" width=\"3900\" height=\"574.5\" direction=\"ltr\" style=\"max-width: none; height: 574.5px; color: #000000; background: #ffffff; font-family: Arial; direction: ltr\">\\n<text class=\"displacy-token\" fill=\"currentColor\" text-anchor=\"middle\" y=\"484.5\">\\n    <tspan class=\"displacy-word\" fill=\"currentColor\" x=\"50\">The</tspan>\\n    <tspan class=\"displacy-tag\" dy=\"2em\" fill=\"currentColor\" x=\"50\">DET</tspan>\\n</text>\\n\\n<text class=\"displacy-token\" fill=\"currentColor\" text-anchor=\"middle\" y=\"484.5\">\\n    <tspan class=\"displacy-word\" fill=\"currentColor\" x=\"225\">immunosuppressive</tspan>\\n    <tspan class=\"displacy-tag\" dy=\"2em\" fill=\"currentColor\" x=\"225\">ADJ</tspan>\\n</text>\\n\\n<text class=\"displacy-token\" fill=\"currentColor\" text-anchor=\"middle\" y=\"484.5\">\\n    <tspan class=\"displacy-word\" fill=\"currentColor\" x=\"400\">nature</tspan>\\n    <tspan class=\"displacy-tag\" dy=\"2em\" fill=\"currentColor\" x=\"400\">NOUN</tspan>\\n</text>\\n\\n<text class=\"displacy-token\" fill=\"currentColor\" text-anchor=\"middle\" y=\"484.5\">\\n    <tspan class=\"displacy-word\" fill=\"currentColor\" x=\"575\">of</tspan>\\n    <tspan class=\"displacy-tag\" dy=\"2em\" fill=\"currentColor\" x=\"575\">ADP</tspan>\\n</text>\\n\\n<text class=\"displacy-token\" fill=\"currentColor\" text-anchor=\"middle\" y=\"484.5\">\\n    <tspan class=\"displacy-word\" fill=\"currentColor\" x=\"750\">GBM</tspan>\\n    <tspan class=\"displacy-tag\" dy=\"2em\" fill=\"currentColor\" x=\"750\">PROPN</tspan>\\n</text>\\n\\n<text class=\"displacy-token\" fill=\"currentColor\" text-anchor=\"middle\" y=\"484.5\">\\n    <tspan class=\"displacy-word\" fill=\"currentColor\" x=\"925\">may</tspan>\\n    <tspan class=\"displacy-tag\" dy=\"2em\" fill=\"currentColor\" x=\"925\">AUX</tspan>\\n</text>\\n\\n<text class=\"displacy-token\" fill=\"currentColor\" text-anchor=\"middle\" y=\"484.5\">\\n    <tspan class=\"displacy-word\" fill=\"currentColor\" x=\"1100\">be</tspan>\\n    <tspan class=\"displacy-tag\" dy=\"2em\" fill=\"currentColor\" x=\"1100\">AUX</tspan>\\n</text>\\n\\n<text class=\"displacy-token\" fill=\"currentColor\" text-anchor=\"middle\" y=\"484.5\">\\n    <tspan class=\"displacy-word\" fill=\"currentColor\" x=\"1275\">reversible</tspan>\\n    <tspan class=\"displacy-tag\" dy=\"2em\" fill=\"currentColor\" x=\"1275\">ADJ</tspan>\\n</text>\\n\\n<text class=\"displacy-token\" fill=\"currentColor\" text-anchor=\"middle\" y=\"484.5\">\\n    <tspan class=\"displacy-word\" fill=\"currentColor\" x=\"1450\">with</tspan>\\n    <tspan class=\"displacy-tag\" dy=\"2em\" fill=\"currentColor\" x=\"1450\">ADP</tspan>\\n</text>\\n\\n<text class=\"displacy-token\" fill=\"currentColor\" text-anchor=\"middle\" y=\"484.5\">\\n    <tspan class=\"displacy-word\" fill=\"currentColor\" x=\"1625\">immune</tspan>\\n    <tspan class=\"displacy-tag\" dy=\"2em\" fill=\"currentColor\" x=\"1625\">ADJ</tspan>\\n</text>\\n\\n<text class=\"displacy-token\" fill=\"currentColor\" text-anchor=\"middle\" y=\"484.5\">\\n    <tspan class=\"displacy-word\" fill=\"currentColor\" x=\"1800\">checkpoint</tspan>\\n    <tspan class=\"displacy-tag\" dy=\"2em\" fill=\"currentColor\" x=\"1800\">NOUN</tspan>\\n</text>\\n\\n<text class=\"displacy-token\" fill=\"currentColor\" text-anchor=\"middle\" y=\"484.5\">\\n    <tspan class=\"displacy-word\" fill=\"currentColor\" x=\"1975\">\\n</tspan>\\n    <tspan class=\"displacy-tag\" dy=\"2em\" fill=\"currentColor\" x=\"1975\">SPACE</tspan>\\n</text>\\n\\n<text class=\"displacy-token\" fill=\"currentColor\" text-anchor=\"middle\" y=\"484.5\">\\n    <tspan class=\"displacy-word\" fill=\"currentColor\" x=\"2150\">inhibitor (</tspan>\\n    <tspan class=\"displacy-tag\" dy=\"2em\" fill=\"currentColor\" x=\"2150\">NOUN</tspan>\\n</text>\\n\\n<text class=\"displacy-token\" fill=\"currentColor\" text-anchor=\"middle\" y=\"484.5\">\\n    <tspan class=\"displacy-word\" fill=\"currentColor\" x=\"2325\">ICI)</tspan>\\n    <tspan class=\"displacy-tag\" dy=\"2em\" fill=\"currentColor\" x=\"2325\">PROPN</tspan>\\n</text>\\n\\n<text class=\"displacy-token\" fill=\"currentColor\" text-anchor=\"middle\" y=\"484.5\">\\n    <tspan class=\"displacy-word\" fill=\"currentColor\" x=\"2500\">however</tspan>\\n    <tspan class=\"displacy-tag\" dy=\"2em\" fill=\"currentColor\" x=\"2500\">ADV</tspan>\\n</text>\\n\\n<text class=\"displacy-token\" fill=\"currentColor\" text-anchor=\"middle\" y=\"484.5\">\\n    <tspan class=\"displacy-word\" fill=\"currentColor\" x=\"2675\">initial</tspan>\\n    <tspan class=\"displacy-tag\" dy=\"2em\" fill=\"currentColor\" x=\"2675\">ADJ</tspan>\\n</text>\\n\\n<text class=\"displacy-token\" fill=\"currentColor\" text-anchor=\"middle\" y=\"484.5\">\\n    <tspan class=\"displacy-word\" fill=\"currentColor\" x=\"2850\">studies</tspan>\\n    <tspan class=\"displacy-tag\" dy=\"2em\" fill=\"currentColor\" x=\"2850\">NOUN</tspan>\\n</text>\\n\\n<text class=\"displacy-token\" fill=\"currentColor\" text-anchor=\"middle\" y=\"484.5\">\\n    <tspan class=\"displacy-word\" fill=\"currentColor\" x=\"3025\">have</tspan>\\n    <tspan class=\"displacy-tag\" dy=\"2em\" fill=\"currentColor\" x=\"3025\">VERB</tspan>\\n</text>\\n\\n<text class=\"displacy-token\" fill=\"currentColor\" text-anchor=\"middle\" y=\"484.5\">\\n    <tspan class=\"displacy-word\" fill=\"currentColor\" x=\"3200\">yet</tspan>\\n    <tspan class=\"displacy-tag\" dy=\"2em\" fill=\"currentColor\" x=\"3200\">ADV</tspan>\\n</text>\\n\\n<text class=\"displacy-token\" fill=\"currentColor\" text-anchor=\"middle\" y=\"484.5\">\\n    <tspan class=\"displacy-word\" fill=\"currentColor\" x=\"3375\">to</tspan>\\n    <tspan class=\"displacy-tag\" dy=\"2em\" fill=\"currentColor\" x=\"3375\">PART</tspan>\\n</text>\\n\\n<text class=\"displacy-token\" fill=\"currentColor\" text-anchor=\"middle\" y=\"484.5\">\\n    <tspan class=\"displacy-word\" fill=\"currentColor\" x=\"3550\">demonstrate</tspan>\\n    <tspan class=\"displacy-tag\" dy=\"2em\" fill=\"currentColor\" x=\"3550\">VERB</tspan>\\n</text>\\n\\n<text class=\"displacy-token\" fill=\"currentColor\" text-anchor=\"middle\" y=\"484.5\">\\n    <tspan class=\"displacy-word\" fill=\"currentColor\" x=\"3725\">this</tspan>\\n    <tspan class=\"displacy-tag\" dy=\"2em\" fill=\"currentColor\" x=\"3725\">PRON</tspan>\\n</text>\\n\\n<g class=\"displacy-arrow\">\\n    <path class=\"displacy-arc\" id=\"arrow-0137015f4d2a44df8b4e81c005af5374-0-0\" stroke-width=\"2px\" d=\"M70,439.5 C70,264.5 385.0,264.5 385.0,439.5\" fill=\"none\" stroke=\"currentColor\"/>\\n    <text dy=\"1.25em\" style=\"font-size: 0.8em; letter-spacing: 1px\">\\n        <textPath xlink:href=\"#arrow-0137015f4d2a44df8b4e81c005af5374-0-0\" class=\"displacy-label\" startOffset=\"50%\" side=\"left\" fill=\"currentColor\" text-anchor=\"middle\">det</textPath>\\n    </text>\\n    <path class=\"displacy-arrowhead\" d=\"M70,441.5 L62,429.5 78,429.5\" fill=\"currentColor\"/>\\n</g>\\n\\n<g class=\"displacy-arrow\">\\n    <path class=\"displacy-arc\" id=\"arrow-0137015f4d2a44df8b4e81c005af5374-0-1\" stroke-width=\"2px\" d=\"M245,439.5 C245,352.0 380.0,352.0 380.0,439.5\" fill=\"none\" stroke=\"currentColor\"/>\\n    <text dy=\"1.25em\" style=\"font-size: 0.8em; letter-spacing: 1px\">\\n        <textPath xlink:href=\"#arrow-0137015f4d2a44df8b4e81c005af5374-0-1\" class=\"displacy-label\" startOffset=\"50%\" side=\"left\" fill=\"currentColor\" text-anchor=\"middle\">amod</textPath>\\n    </text>\\n    <path class=\"displacy-arrowhead\" d=\"M245,441.5 L237,429.5 253,429.5\" fill=\"currentColor\"/>\\n</g>\\n\\n<g class=\"displacy-arrow\">\\n    <path class=\"displacy-arc\" id=\"arrow-0137015f4d2a44df8b4e81c005af5374-0-2\" stroke-width=\"2px\" d=\"M420,439.5 C420,264.5 1085.0,264.5 1085.0,439.5\" fill=\"none\" stroke=\"currentColor\"/>\\n    <text dy=\"1.25em\" style=\"font-size: 0.8em; letter-spacing: 1px\">\\n        <textPath xlink:href=\"#arrow-0137015f4d2a44df8b4e81c005af5374-0-2\" class=\"displacy-label\" startOffset=\"50%\" side=\"left\" fill=\"currentColor\" text-anchor=\"middle\">nsubj</textPath>\\n    </text>\\n    <path class=\"displacy-arrowhead\" d=\"M420,441.5 L412,429.5 428,429.5\" fill=\"currentColor\"/>\\n</g>\\n\\n<g class=\"displacy-arrow\">\\n    <path class=\"displacy-arc\" id=\"arrow-0137015f4d2a44df8b4e81c005af5374-0-3\" stroke-width=\"2px\" d=\"M420,439.5 C420,352.0 555.0,352.0 555.0,439.5\" fill=\"none\" stroke=\"currentColor\"/>\\n    <text dy=\"1.25em\" style=\"font-size: 0.8em; letter-spacing: 1px\">\\n        <textPath xlink:href=\"#arrow-0137015f4d2a44df8b4e81c005af5374-0-3\" class=\"displacy-label\" startOffset=\"50%\" side=\"left\" fill=\"currentColor\" text-anchor=\"middle\">prep</textPath>\\n    </text>\\n    <path class=\"displacy-arrowhead\" d=\"M555.0,441.5 L563.0,429.5 547.0,429.5\" fill=\"currentColor\"/>\\n</g>\\n\\n<g class=\"displacy-arrow\">\\n    <path class=\"displacy-arc\" id=\"arrow-0137015f4d2a44df8b4e81c005af5374-0-4\" stroke-width=\"2px\" d=\"M595,439.5 C595,352.0 730.0,352.0 730.0,439.5\" fill=\"none\" stroke=\"currentColor\"/>\\n    <text dy=\"1.25em\" style=\"font-size: 0.8em; letter-spacing: 1px\">\\n        <textPath xlink:href=\"#arrow-0137015f4d2a44df8b4e81c005af5374-0-4\" class=\"displacy-label\" startOffset=\"50%\" side=\"left\" fill=\"currentColor\" text-anchor=\"middle\">pobj</textPath>\\n    </text>\\n    <path class=\"displacy-arrowhead\" d=\"M730.0,441.5 L738.0,429.5 722.0,429.5\" fill=\"currentColor\"/>\\n</g>\\n\\n<g class=\"displacy-arrow\">\\n    <path class=\"displacy-arc\" id=\"arrow-0137015f4d2a44df8b4e81c005af5374-0-5\" stroke-width=\"2px\" d=\"M945,439.5 C945,352.0 1080.0,352.0 1080.0,439.5\" fill=\"none\" stroke=\"currentColor\"/>\\n    <text dy=\"1.25em\" style=\"font-size: 0.8em; letter-spacing: 1px\">\\n        <textPath xlink:href=\"#arrow-0137015f4d2a44df8b4e81c005af5374-0-5\" class=\"displacy-label\" startOffset=\"50%\" side=\"left\" fill=\"currentColor\" text-anchor=\"middle\">aux</textPath>\\n    </text>\\n    <path class=\"displacy-arrowhead\" d=\"M945,441.5 L937,429.5 953,429.5\" fill=\"currentColor\"/>\\n</g>\\n\\n<g class=\"displacy-arrow\">\\n    <path class=\"displacy-arc\" id=\"arrow-0137015f4d2a44df8b4e81c005af5374-0-6\" stroke-width=\"2px\" d=\"M1120,439.5 C1120,352.0 1255.0,352.0 1255.0,439.5\" fill=\"none\" stroke=\"currentColor\"/>\\n    <text dy=\"1.25em\" style=\"font-size: 0.8em; letter-spacing: 1px\">\\n        <textPath xlink:href=\"#arrow-0137015f4d2a44df8b4e81c005af5374-0-6\" class=\"displacy-label\" startOffset=\"50%\" side=\"left\" fill=\"currentColor\" text-anchor=\"middle\">acomp</textPath>\\n    </text>\\n    <path class=\"displacy-arrowhead\" d=\"M1255.0,441.5 L1263.0,429.5 1247.0,429.5\" fill=\"currentColor\"/>\\n</g>\\n\\n<g class=\"displacy-arrow\">\\n    <path class=\"displacy-arc\" id=\"arrow-0137015f4d2a44df8b4e81c005af5374-0-7\" stroke-width=\"2px\" d=\"M1295,439.5 C1295,352.0 1430.0,352.0 1430.0,439.5\" fill=\"none\" stroke=\"currentColor\"/>\\n    <text dy=\"1.25em\" style=\"font-size: 0.8em; letter-spacing: 1px\">\\n        <textPath xlink:href=\"#arrow-0137015f4d2a44df8b4e81c005af5374-0-7\" class=\"displacy-label\" startOffset=\"50%\" side=\"left\" fill=\"currentColor\" text-anchor=\"middle\">prep</textPath>\\n    </text>\\n    <path class=\"displacy-arrowhead\" d=\"M1430.0,441.5 L1438.0,429.5 1422.0,429.5\" fill=\"currentColor\"/>\\n</g>\\n\\n<g class=\"displacy-arrow\">\\n    <path class=\"displacy-arc\" id=\"arrow-0137015f4d2a44df8b4e81c005af5374-0-8\" stroke-width=\"2px\" d=\"M1645,439.5 C1645,177.0 2140.0,177.0 2140.0,439.5\" fill=\"none\" stroke=\"currentColor\"/>\\n    <text dy=\"1.25em\" style=\"font-size: 0.8em; letter-spacing: 1px\">\\n        <textPath xlink:href=\"#arrow-0137015f4d2a44df8b4e81c005af5374-0-8\" class=\"displacy-label\" startOffset=\"50%\" side=\"left\" fill=\"currentColor\" text-anchor=\"middle\">amod</textPath>\\n    </text>\\n    <path class=\"displacy-arrowhead\" d=\"M1645,441.5 L1637,429.5 1653,429.5\" fill=\"currentColor\"/>\\n</g>\\n\\n<g class=\"displacy-arrow\">\\n    <path class=\"displacy-arc\" id=\"arrow-0137015f4d2a44df8b4e81c005af5374-0-9\" stroke-width=\"2px\" d=\"M1820,439.5 C1820,264.5 2135.0,264.5 2135.0,439.5\" fill=\"none\" stroke=\"currentColor\"/>\\n    <text dy=\"1.25em\" style=\"font-size: 0.8em; letter-spacing: 1px\">\\n        <textPath xlink:href=\"#arrow-0137015f4d2a44df8b4e81c005af5374-0-9\" class=\"displacy-label\" startOffset=\"50%\" side=\"left\" fill=\"currentColor\" text-anchor=\"middle\">compound</textPath>\\n    </text>\\n    <path class=\"displacy-arrowhead\" d=\"M1820,441.5 L1812,429.5 1828,429.5\" fill=\"currentColor\"/>\\n</g>\\n\\n<g class=\"displacy-arrow\">\\n    <path class=\"displacy-arc\" id=\"arrow-0137015f4d2a44df8b4e81c005af5374-0-10\" stroke-width=\"2px\" d=\"M1820,439.5 C1820,352.0 1955.0,352.0 1955.0,439.5\" fill=\"none\" stroke=\"currentColor\"/>\\n    <text dy=\"1.25em\" style=\"font-size: 0.8em; letter-spacing: 1px\">\\n        <textPath xlink:href=\"#arrow-0137015f4d2a44df8b4e81c005af5374-0-10\" class=\"displacy-label\" startOffset=\"50%\" side=\"left\" fill=\"currentColor\" text-anchor=\"middle\">dep</textPath>\\n    </text>\\n    <path class=\"displacy-arrowhead\" d=\"M1955.0,441.5 L1963.0,429.5 1947.0,429.5\" fill=\"currentColor\"/>\\n</g>\\n\\n<g class=\"displacy-arrow\">\\n    <path class=\"displacy-arc\" id=\"arrow-0137015f4d2a44df8b4e81c005af5374-0-11\" stroke-width=\"2px\" d=\"M1470,439.5 C1470,89.5 2145.0,89.5 2145.0,439.5\" fill=\"none\" stroke=\"currentColor\"/>\\n    <text dy=\"1.25em\" style=\"font-size: 0.8em; letter-spacing: 1px\">\\n        <textPath xlink:href=\"#arrow-0137015f4d2a44df8b4e81c005af5374-0-11\" class=\"displacy-label\" startOffset=\"50%\" side=\"left\" fill=\"currentColor\" text-anchor=\"middle\">pobj</textPath>\\n    </text>\\n    <path class=\"displacy-arrowhead\" d=\"M2145.0,441.5 L2153.0,429.5 2137.0,429.5\" fill=\"currentColor\"/>\\n</g>\\n\\n<g class=\"displacy-arrow\">\\n    <path class=\"displacy-arc\" id=\"arrow-0137015f4d2a44df8b4e81c005af5374-0-12\" stroke-width=\"2px\" d=\"M2170,439.5 C2170,352.0 2305.0,352.0 2305.0,439.5\" fill=\"none\" stroke=\"currentColor\"/>\\n    <text dy=\"1.25em\" style=\"font-size: 0.8em; letter-spacing: 1px\">\\n        <textPath xlink:href=\"#arrow-0137015f4d2a44df8b4e81c005af5374-0-12\" class=\"displacy-label\" startOffset=\"50%\" side=\"left\" fill=\"currentColor\" text-anchor=\"middle\">appos</textPath>\\n    </text>\\n    <path class=\"displacy-arrowhead\" d=\"M2305.0,441.5 L2313.0,429.5 2297.0,429.5\" fill=\"currentColor\"/>\\n</g>\\n\\n<g class=\"displacy-arrow\">\\n    <path class=\"displacy-arc\" id=\"arrow-0137015f4d2a44df8b4e81c005af5374-0-13\" stroke-width=\"2px\" d=\"M2520,439.5 C2520,264.5 3010.0,264.5 3010.0,439.5\" fill=\"none\" stroke=\"currentColor\"/>\\n    <text dy=\"1.25em\" style=\"font-size: 0.8em; letter-spacing: 1px\">\\n        <textPath xlink:href=\"#arrow-0137015f4d2a44df8b4e81c005af5374-0-13\" class=\"displacy-label\" startOffset=\"50%\" side=\"left\" fill=\"currentColor\" text-anchor=\"middle\">advmod</textPath>\\n    </text>\\n    <path class=\"displacy-arrowhead\" d=\"M2520,441.5 L2512,429.5 2528,429.5\" fill=\"currentColor\"/>\\n</g>\\n\\n<g class=\"displacy-arrow\">\\n    <path class=\"displacy-arc\" id=\"arrow-0137015f4d2a44df8b4e81c005af5374-0-14\" stroke-width=\"2px\" d=\"M2695,439.5 C2695,352.0 2830.0,352.0 2830.0,439.5\" fill=\"none\" stroke=\"currentColor\"/>\\n    <text dy=\"1.25em\" style=\"font-size: 0.8em; letter-spacing: 1px\">\\n        <textPath xlink:href=\"#arrow-0137015f4d2a44df8b4e81c005af5374-0-14\" class=\"displacy-label\" startOffset=\"50%\" side=\"left\" fill=\"currentColor\" text-anchor=\"middle\">amod</textPath>\\n    </text>\\n    <path class=\"displacy-arrowhead\" d=\"M2695,441.5 L2687,429.5 2703,429.5\" fill=\"currentColor\"/>\\n</g>\\n\\n<g class=\"displacy-arrow\">\\n    <path class=\"displacy-arc\" id=\"arrow-0137015f4d2a44df8b4e81c005af5374-0-15\" stroke-width=\"2px\" d=\"M2870,439.5 C2870,352.0 3005.0,352.0 3005.0,439.5\" fill=\"none\" stroke=\"currentColor\"/>\\n    <text dy=\"1.25em\" style=\"font-size: 0.8em; letter-spacing: 1px\">\\n        <textPath xlink:href=\"#arrow-0137015f4d2a44df8b4e81c005af5374-0-15\" class=\"displacy-label\" startOffset=\"50%\" side=\"left\" fill=\"currentColor\" text-anchor=\"middle\">nsubj</textPath>\\n    </text>\\n    <path class=\"displacy-arrowhead\" d=\"M2870,441.5 L2862,429.5 2878,429.5\" fill=\"currentColor\"/>\\n</g>\\n\\n<g class=\"displacy-arrow\">\\n    <path class=\"displacy-arc\" id=\"arrow-0137015f4d2a44df8b4e81c005af5374-0-16\" stroke-width=\"2px\" d=\"M1120,439.5 C1120,2.0 3025.0,2.0 3025.0,439.5\" fill=\"none\" stroke=\"currentColor\"/>\\n    <text dy=\"1.25em\" style=\"font-size: 0.8em; letter-spacing: 1px\">\\n        <textPath xlink:href=\"#arrow-0137015f4d2a44df8b4e81c005af5374-0-16\" class=\"displacy-label\" startOffset=\"50%\" side=\"left\" fill=\"currentColor\" text-anchor=\"middle\">advcl</textPath>\\n    </text>\\n    <path class=\"displacy-arrowhead\" d=\"M3025.0,441.5 L3033.0,429.5 3017.0,429.5\" fill=\"currentColor\"/>\\n</g>\\n\\n<g class=\"displacy-arrow\">\\n    <path class=\"displacy-arc\" id=\"arrow-0137015f4d2a44df8b4e81c005af5374-0-17\" stroke-width=\"2px\" d=\"M3045,439.5 C3045,352.0 3180.0,352.0 3180.0,439.5\" fill=\"none\" stroke=\"currentColor\"/>\\n    <text dy=\"1.25em\" style=\"font-size: 0.8em; letter-spacing: 1px\">\\n        <textPath xlink:href=\"#arrow-0137015f4d2a44df8b4e81c005af5374-0-17\" class=\"displacy-label\" startOffset=\"50%\" side=\"left\" fill=\"currentColor\" text-anchor=\"middle\">advmod</textPath>\\n    </text>\\n    <path class=\"displacy-arrowhead\" d=\"M3180.0,441.5 L3188.0,429.5 3172.0,429.5\" fill=\"currentColor\"/>\\n</g>\\n\\n<g class=\"displacy-arrow\">\\n    <path class=\"displacy-arc\" id=\"arrow-0137015f4d2a44df8b4e81c005af5374-0-18\" stroke-width=\"2px\" d=\"M3395,439.5 C3395,352.0 3530.0,352.0 3530.0,439.5\" fill=\"none\" stroke=\"currentColor\"/>\\n    <text dy=\"1.25em\" style=\"font-size: 0.8em; letter-spacing: 1px\">\\n        <textPath xlink:href=\"#arrow-0137015f4d2a44df8b4e81c005af5374-0-18\" class=\"displacy-label\" startOffset=\"50%\" side=\"left\" fill=\"currentColor\" text-anchor=\"middle\">aux</textPath>\\n    </text>\\n    <path class=\"displacy-arrowhead\" d=\"M3395,441.5 L3387,429.5 3403,429.5\" fill=\"currentColor\"/>\\n</g>\\n\\n<g class=\"displacy-arrow\">\\n    <path class=\"displacy-arc\" id=\"arrow-0137015f4d2a44df8b4e81c005af5374-0-19\" stroke-width=\"2px\" d=\"M3045,439.5 C3045,264.5 3535.0,264.5 3535.0,439.5\" fill=\"none\" stroke=\"currentColor\"/>\\n    <text dy=\"1.25em\" style=\"font-size: 0.8em; letter-spacing: 1px\">\\n        <textPath xlink:href=\"#arrow-0137015f4d2a44df8b4e81c005af5374-0-19\" class=\"displacy-label\" startOffset=\"50%\" side=\"left\" fill=\"currentColor\" text-anchor=\"middle\">xcomp</textPath>\\n    </text>\\n    <path class=\"displacy-arrowhead\" d=\"M3535.0,441.5 L3543.0,429.5 3527.0,429.5\" fill=\"currentColor\"/>\\n</g>\\n\\n<g class=\"displacy-arrow\">\\n    <path class=\"displacy-arc\" id=\"arrow-0137015f4d2a44df8b4e81c005af5374-0-20\" stroke-width=\"2px\" d=\"M3570,439.5 C3570,352.0 3705.0,352.0 3705.0,439.5\" fill=\"none\" stroke=\"currentColor\"/>\\n    <text dy=\"1.25em\" style=\"font-size: 0.8em; letter-spacing: 1px\">\\n        <textPath xlink:href=\"#arrow-0137015f4d2a44df8b4e81c005af5374-0-20\" class=\"displacy-label\" startOffset=\"50%\" side=\"left\" fill=\"currentColor\" text-anchor=\"middle\">dobj</textPath>\\n    </text>\\n    <path class=\"displacy-arrowhead\" d=\"M3705.0,441.5 L3713.0,429.5 3697.0,429.5\" fill=\"currentColor\"/>\\n</g>\\n</svg>'"
            ],
            "application/vnd.google.colaboratory.intrinsic+json": {
              "type": "string"
            }
          },
          "metadata": {},
          "execution_count": 23
        }
      ]
    },
    {
      "cell_type": "code",
      "source": [
        "html = displacy.render(doc, style=\"ent\", page=True)\n",
        "html"
      ],
      "metadata": {
        "colab": {
          "base_uri": "https://localhost:8080/",
          "height": 126
        },
        "id": "ICljCp6dXFC3",
        "outputId": "9a85a4ab-f2a0-4f9e-c407-4da5950b3d5e"
      },
      "execution_count": 33,
      "outputs": [
        {
          "output_type": "execute_result",
          "data": {
            "text/plain": [
              "'<!DOCTYPE html>\\n<html lang=\"en\">\\n    <head>\\n        <title>displaCy</title>\\n    </head>\\n\\n    <body style=\"font-size: 16px; font-family: -apple-system, BlinkMacSystemFont, \\'Segoe UI\\', Helvetica, Arial, sans-serif, \\'Apple Color Emoji\\', \\'Segoe UI Emoji\\', \\'Segoe UI Symbol\\'; padding: 4rem 2rem; direction: ltr\">\\n<figure style=\"margin-bottom: 6rem\">\\n<div class=\"entities\" style=\"line-height: 2.5; direction: ltr\">The immunosuppressive nature of \\n<mark class=\"entity\" style=\"background: #7aecec; padding: 0.45em 0.6em; margin: 0 0.25em; line-height: 1; border-radius: 0.35em;\">\\n    GBM\\n    <span style=\"font-size: 0.8em; font-weight: bold; line-height: 1; border-radius: 0.35em; vertical-align: middle; margin-left: 0.5rem\">ORG</span>\\n</mark>\\n may be reversible with immune checkpoint </br>inhibitor (ICI) however initial studies have yet to demonstrate this</div>\\n</figure>\\n</body>\\n</html>'"
            ],
            "application/vnd.google.colaboratory.intrinsic+json": {
              "type": "string"
            }
          },
          "metadata": {},
          "execution_count": 33
        }
      ]
    },
    {
      "cell_type": "code",
      "source": [
        "from pathlib import Path"
      ],
      "metadata": {
        "id": "2ubHRnsmYJpU"
      },
      "execution_count": 29,
      "outputs": []
    },
    {
      "cell_type": "code",
      "source": [
        "svg = displacy.render(doc, style=\"ent\")\n",
        "output_path = Path(\"/sentence.svg\")\n",
        "output_path.open(\"w\", encoding=\"utf-8\").write(svg)"
      ],
      "metadata": {
        "colab": {
          "base_uri": "https://localhost:8080/"
        },
        "id": "zRRsByiaX8sF",
        "outputId": "f8e84462-21ba-4a56-f2f4-d6e218baf39b"
      },
      "execution_count": 32,
      "outputs": [
        {
          "output_type": "execute_result",
          "data": {
            "text/plain": [
              "513"
            ]
          },
          "metadata": {},
          "execution_count": 32
        }
      ]
    },
    {
      "cell_type": "code",
      "source": [
        "print(sent2)\n",
        "doc = nlp(sent2)\n",
        "for chunk in doc.noun_chunks:\n",
        "    print(chunk.text, \" - \", chunk.root.text, \" - \", chunk.root.dep_, \" - \",\n",
        "            chunk.root.head.text)\n",
        "\n",
        "print('=========================================')\n",
        "for tok in doc:\n",
        "  print(tok.text, \"...\", tok.dep_)"
      ],
      "metadata": {
        "colab": {
          "base_uri": "https://localhost:8080/"
        },
        "id": "gQJEpNtXEzKl",
        "outputId": "6606c651-fbec-4dcf-cc81-c9ffafb2abd0"
      },
      "execution_count": 45,
      "outputs": [
        {
          "output_type": "stream",
          "name": "stdout",
          "text": [
            "Phase II trial Evaluating Predicting of Response to Adjuvant Treatment with Immune \n",
            "Checkpoint Inhibition (ICI) in Patients with Newly Diagnosed Glioblastoma or Gliosarcoma\n",
            "Phase II trial  -  trial  -  ROOT  -  trial\n",
            "Predicting  -  Predicting  -  dobj  -  Evaluating\n",
            "Response  -  Response  -  pobj  -  of\n",
            "Adjuvant Treatment  -  Treatment  -  pobj  -  to\n",
            "Immune \n",
            "Checkpoint Inhibition  -  Inhibition  -  pobj  -  with\n",
            "ICI  -  ICI  -  appos  -  Inhibition\n",
            "Patients  -  Patients  -  pobj  -  in\n",
            "Newly Diagnosed Glioblastoma  -  Glioblastoma  -  pobj  -  with\n",
            "Gliosarcoma  -  Gliosarcoma  -  conj  -  Glioblastoma\n",
            "=========================================\n",
            "Phase ... compound\n",
            "II ... compound\n",
            "trial ... ROOT\n",
            "Evaluating ... acl\n",
            "Predicting ... dobj\n",
            "of ... prep\n",
            "Response ... pobj\n",
            "to ... prep\n",
            "Adjuvant ... compound\n",
            "Treatment ... pobj\n",
            "with ... prep\n",
            "Immune ... compound\n",
            "\n",
            " ... dep\n",
            "Checkpoint ... compound\n",
            "Inhibition ... pobj\n",
            "( ... punct\n",
            "ICI ... appos\n",
            ") ... punct\n",
            "in ... prep\n",
            "Patients ... pobj\n",
            "with ... prep\n",
            "Newly ... advmod\n",
            "Diagnosed ... amod\n",
            "Glioblastoma ... pobj\n",
            "or ... cc\n",
            "Gliosarcoma ... conj\n"
          ]
        }
      ]
    },
    {
      "cell_type": "code",
      "source": [
        "print(sent1)\n",
        "doc = nlp(sent1)\n",
        "for chunk in doc.noun_chunks:\n",
        "    print(chunk.text, \" - \", chunk.root.text, \" - \", chunk.root.dep_, \" - \",\n",
        "            chunk.root.head.text)\n",
        "\n",
        "print('=========================================')\n",
        "for tok in doc:\n",
        "  print(tok.text, \"...\", tok.dep_)"
      ],
      "metadata": {
        "colab": {
          "base_uri": "https://localhost:8080/"
        },
        "id": "lkUw0wWXEzNc",
        "outputId": "0c739508-be45-4e4e-99c4-1b320fcffe7d"
      },
      "execution_count": 44,
      "outputs": [
        {
          "output_type": "stream",
          "name": "stdout",
          "text": [
            "suppressor phosphatase  and  tensin homolog  (PTEN)  function  increases  B7-H1  expression  and immune resistance in glioma\n",
            "suppressor phosphatase  -  phosphatase  -  nsubj  -  increases\n",
            "tensin  -  tensin  -  conj  -  phosphatase\n",
            "homolog  -  homolog  -  nsubj  -  function\n",
            "(PTEN  -  PTEN  -  appos  -  homolog\n",
            "B7-H1  expression  -  expression  -  dobj  -  increases\n",
            "immune resistance  -  resistance  -  conj  -  expression\n",
            "glioma  -  glioma  -  pobj  -  in\n",
            "=========================================\n",
            "suppressor ... compound\n",
            "phosphatase ... nsubj\n",
            "  ... dep\n",
            "and ... cc\n",
            "  ... dep\n",
            "tensin ... conj\n",
            "homolog ... nsubj\n",
            "  ... dep\n",
            "( ... punct\n",
            "PTEN ... appos\n",
            ") ... punct\n",
            "  ... dep\n",
            "function ... compound\n",
            "  ... dep\n",
            "increases ... ROOT\n",
            "  ... dep\n",
            "B7 ... compound\n",
            "- ... punct\n",
            "H1 ... compound\n",
            "  ... dep\n",
            "expression ... dobj\n",
            "  ... dep\n",
            "and ... cc\n",
            "immune ... amod\n",
            "resistance ... conj\n",
            "in ... prep\n",
            "glioma ... pobj\n"
          ]
        }
      ]
    },
    {
      "cell_type": "code",
      "source": [],
      "metadata": {
        "id": "HKPCGSXHEzRw"
      },
      "execution_count": null,
      "outputs": []
    },
    {
      "cell_type": "code",
      "source": [],
      "metadata": {
        "id": "6kq_8vc1CjBV"
      },
      "execution_count": null,
      "outputs": []
    }
  ]
}